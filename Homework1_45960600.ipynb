{
 "cells": [
  {
   "cell_type": "markdown",
   "metadata": {},
   "source": [
    "# DATA7703 Homework1\n",
    "*Name: Yupeng Wu*\n",
    "\n",
    "*ID: 45960600*\n",
    "\n",
    "*Using python3.7*"
   ]
  },
  {
   "cell_type": "markdown",
   "metadata": {},
   "source": [
    "## Q1"
   ]
  },
  {
   "cell_type": "code",
   "execution_count": 29,
   "metadata": {},
   "outputs": [
    {
     "name": "stdout",
     "output_type": "stream",
     "text": [
      "Body mass of tiger snakes' sample mean: 467.487563, standard deviation: 288.088026\n"
     ]
    }
   ],
   "source": [
    "import numpy as np\n",
    "import openpyxl\n",
    "wb = openpyxl.load_workbook(\"C:/Users/simon/Desktop/DATA7703/Data/Aubret 53172.xlsx\")\n",
    "ws = wb[\"Adult Tiger snakes\"]\n",
    "cells = ws['D']\n",
    "body_mass = []\n",
    "for cell in cells:\n",
    "    if cell.value != None:\n",
    "        body_mass.append(cell.value)\n",
    "body_mass = body_mass[1:] # delete the title\n",
    "body_mass = list(filter(None, body_mass)) # delete None \n",
    "print('Body mass of tiger snakes\\' sample mean: %f, standard deviation: %f'%(np.mean(body_mass), np.std(body_mass)))"
   ]
  },
  {
   "cell_type": "markdown",
   "metadata": {},
   "source": [
    "## Q2\n",
    "(a)\n",
    "\n",
    "&emsp;Regression. The model is used to predict a value, not to classify.\n",
    "\n",
    "(b)\n",
    "\n",
    "&emsp;Interpolation. This is because the prediction will less than either $y_{t-1}$ or $y_{t-2}$. The result will not out of range."
   ]
  },
  {
   "cell_type": "markdown",
   "metadata": {},
   "source": [
    "## Q3"
   ]
  },
  {
   "cell_type": "code",
   "execution_count": 45,
   "metadata": {},
   "outputs": [],
   "source": [
    "def sum_to_n(arr, n):\n",
    "    output = []\n",
    "    delete = []\n",
    "    for i in range(len(arr)):\n",
    "        if i not in delete:\n",
    "            for j in range(i+1,len(arr)):\n",
    "                if arr[i] + arr[j] == n:\n",
    "                    delete.append(j)\n",
    "                    output.append([arr[i], arr[j]])\n",
    "    return output"
   ]
  },
  {
   "cell_type": "code",
   "execution_count": 31,
   "metadata": {},
   "outputs": [
    {
     "data": {
      "text/plain": [
       "[[1, 4], [2, 3]]"
      ]
     },
     "execution_count": 31,
     "metadata": {},
     "output_type": "execute_result"
    }
   ],
   "source": [
    "sum_to_n([1,2,3,4], 5)"
   ]
  },
  {
   "cell_type": "code",
   "execution_count": 32,
   "metadata": {},
   "outputs": [
    {
     "data": {
      "text/plain": [
       "[[1, 5], [3, 3]]"
      ]
     },
     "execution_count": 32,
     "metadata": {},
     "output_type": "execute_result"
    }
   ],
   "source": [
    "sum_to_n([1,4,5,3,3], 6)"
   ]
  },
  {
   "cell_type": "code",
   "execution_count": 33,
   "metadata": {},
   "outputs": [
    {
     "data": {
      "text/plain": [
       "[[1, 6], [2, 5]]"
      ]
     },
     "execution_count": 33,
     "metadata": {},
     "output_type": "execute_result"
    }
   ],
   "source": [
    "sum_to_n([1,2,5,6,3], 7)"
   ]
  },
  {
   "cell_type": "markdown",
   "metadata": {},
   "source": [
    "## Q4\n",
    "(a)\n",
    "\n",
    "&emsp;Column AG(32), AF(33), AJ(35), AK(36) are categorical.\n",
    "\n",
    "(b)"
   ]
  },
  {
   "cell_type": "code",
   "execution_count": 34,
   "metadata": {},
   "outputs": [
    {
     "name": "stdout",
     "output_type": "stream",
     "text": [
      "The index of the maximun absolute value in correlation list: 0\n",
      "The value is: 1.0\n"
     ]
    }
   ],
   "source": [
    "import math\n",
    "import pandas as pd\n",
    "def calPearson(x,y):\n",
    "    sum_x = sum(x)\n",
    "    sum_y = sum(y)\n",
    "    n = len(x)\n",
    "    x_mean = float(sum_x+0.0)/n\n",
    "    y_mean = float(sum_y+0.0)/n\n",
    "    \n",
    "    numerator = 0.0\n",
    "    denominator = 0.0\n",
    "    x_pow = 0.0\n",
    "    y_pow = 0.0\n",
    "    for i in range(n):\n",
    "        numerator += (x[i]-x_mean)*(y[i]-y_mean)\n",
    "    for i in range(n):\n",
    "        x_pow += math.pow(x[i]-x_mean,2)\n",
    "    for i in range(n):\n",
    "        y_pow += math.pow(y[i]-y_mean,2)\n",
    "    denominator = math.sqrt(x_pow*y_pow)\n",
    "    p = numerator/denominator\n",
    "    return p\n",
    "\n",
    "df = pd.read_csv(\"C:/Users/simon/Desktop/DATA7703/Data/hw1mystery.csv\", header=0)\n",
    "df.dropna()\n",
    "row, col = df.shape\n",
    "p_value = []\n",
    "for i in range(col-1):\n",
    "    for j in range(i+1, col):\n",
    "        try:\n",
    "            p = calPearson(df[str(i)], df[str(j)])\n",
    "            if not np.isnan(p):\n",
    "                p_value.append(p)\n",
    "        except TypeError:\n",
    "            continue\n",
    "abs_p = list(map(abs, p_value))\n",
    "max_p = max(abs_p)\n",
    "print(\"The index of the maximun absolute value in correlation list: \"\n",
    "      + str(abs_p.index(max_p)))\n",
    "print(\"The value is: \" + str(max_p))"
   ]
  },
  {
   "cell_type": "markdown",
   "metadata": {},
   "source": [
    "&emsp;In my code, I store all the corelation value in a list and it shows that the first correlation value in the list is the maximum. So, the two most strongly correlated features are feature 0 and 1. The Pearson correlationship of the two features is 1. Which means they have a linear relationship.\n",
    "\n",
    "Note:\n",
    "\n",
    "&emsp;The list is like: \\[\"correlation between feature 0 & 1\", ..., \"correlation between feature 0 & 40\", \"correlation between feature 1 & 2\", ......, \"correlatio between feature 39 & 40\"]\n",
    "\n",
    "\n",
    "(c)"
   ]
  },
  {
   "cell_type": "code",
   "execution_count": 35,
   "metadata": {},
   "outputs": [
    {
     "name": "stdout",
     "output_type": "stream",
     "text": [
      "The index of the minimum absolute value in correlation list: 84\n",
      "The value is: 0.0003263863704765937\n"
     ]
    }
   ],
   "source": [
    "min_p = min(abs_p)\n",
    "abs_p.index(min_p)\n",
    "print(\"The index of the minimum absolute value in correlation list: \"\n",
    "      + str(abs_p.index(min_p)))\n",
    "print(\"The value is: \" + str(min_p))"
   ]
  },
  {
   "cell_type": "markdown",
   "metadata": {},
   "source": [
    "&emsp;So the smallest absolute value of the pearson correlation is between feature 2 and feature 9. Those two features have a very weak relationship.\n",
    "\n",
    "(d)"
   ]
  },
  {
   "cell_type": "code",
   "execution_count": 36,
   "metadata": {},
   "outputs": [
    {
     "name": "stdout",
     "output_type": "stream",
     "text": [
      "The index of the minimum value (negative) in correlation list: 167\n",
      "The value is: -0.5469816068058979\n"
     ]
    }
   ],
   "source": [
    "min_negative_p = min(p_value)\n",
    "for i in range(len(p_value)):\n",
    "    if p_value[i] == min(p_value):\n",
    "        print(\"The index of the minimum value (negative) in correlation list: \"\n",
    "              + str(i))\n",
    "        print(\"The value is: \" + str(p_value[i]))"
   ]
  },
  {
   "cell_type": "markdown",
   "metadata": {},
   "source": [
    "&emsp;The minimum correlation value is between column 5 and column 18, which shows these two variables has the most opposite direction in the data. Which means a increase in feature 5 will cause a decrease in feature 18."
   ]
  },
  {
   "cell_type": "markdown",
   "metadata": {},
   "source": [
    "(e) i)"
   ]
  },
  {
   "cell_type": "code",
   "execution_count": 37,
   "metadata": {},
   "outputs": [
    {
     "data": {
      "image/png": "[encoded data removed]",
      "text/plain": [
       "<Figure size 432x288 with 2 Axes>"
      ]
     },
     "metadata": {
      "needs_background": "light"
     },
     "output_type": "display_data"
    }
   ],
   "source": [
    "import seaborn as sns\n",
    "df2 = pd.read_csv(\"C:/Users/simon/Desktop/DATA7703/Data/hw1mystery.csv\", header=0)\n",
    "df_4e = df2.iloc[:, [19, 24, 27, 29, 30, 31]]\n",
    "corr = df_4e.corr()\n",
    "ax = sns.heatmap(corr, \n",
    "    vmin=-1, vmax=1, center=0,\n",
    "    cmap=sns.diverging_palette(20, 220, n=200),\n",
    "    square=True, annot=True\n",
    ")\n",
    "ax.set_xticklabels(\n",
    "    ax.get_xticklabels(),\n",
    "    rotation=45,\n",
    "    horizontalalignment='right'\n",
    ");"
   ]
  },
  {
   "cell_type": "markdown",
   "metadata": {},
   "source": [
    "&emsp;ii) The feature 24 and the feature 31 have the lowest correlation. The value is 0.0079.\n",
    "\n",
    "&emsp;iii) The correlation is so small that it's almost zero, which means there's almost no linear relationship. However, there might be some other non linear relation.\n",
    "\n",
    "## Q5"
   ]
  },
  {
   "cell_type": "code",
   "execution_count": 38,
   "metadata": {},
   "outputs": [
    {
     "name": "stdout",
     "output_type": "stream",
     "text": [
      "Q1: 247.0 , Points close to Q1:  [244.4, 245, 245, 245.5, 245.5, 246, 247, 247, 248, 248.3]\n",
      "Q3: 620.0 , Points close to Q3:  [617.5, 618, 620, 622]\n"
     ]
    }
   ],
   "source": [
    "body_mass.sort()\n",
    "body = np.array(body_mass)\n",
    "Q1 = np.percentile(body, 25, interpolation='lower')\n",
    "Q3 = np.percentile(body, 75, interpolation='higher')\n",
    "P1 = []\n",
    "P3 = []\n",
    "r = 3\n",
    "for points in body_mass:\n",
    "    if abs(points - Q1) < r:\n",
    "        P1.append(points)\n",
    "    elif abs(points - Q3) < r:\n",
    "        P3.append(points)\n",
    "print(\"Q1:\", Q1, \", Points close to Q1: \", P1)\n",
    "print(\"Q3:\", Q3, \", Points close to Q3: \", P3)"
   ]
  },
  {
   "cell_type": "markdown",
   "metadata": {},
   "source": [
    "&emsp;For the boundary of the inter-quartile range of the body mass, Q1 is 247 and Q3 is 620. So, the closest data point for Q1 is 246 and 248, and for Q3 is 618 and 622.\n",
    "\n",
    "## Q6\n",
    "\n",
    "(a)\n",
    "\n",
    "&emsp;The last three columns look like RGB data, trying to draw the figue."
   ]
  },
  {
   "cell_type": "code",
   "execution_count": 43,
   "metadata": {},
   "outputs": [
    {
     "data": {
      "image/png": "[encoded data removed]",
      "text/plain": [
       "<PIL.Image.Image image mode=RGB size=28x28 at 0x2CDA1AAD400>"
      ]
     },
     "metadata": {},
     "output_type": "display_data"
    }
   ],
   "source": [
    "from PIL import Image, ImageDraw, ImageFont, ImageFilter\n",
    "rgb = df2.iloc[:, [37, 38, 39]]\n",
    "rgb = [tuple(x) for x in rgb.values][8:-9]\n",
    "rgb\n",
    "width = 28\n",
    "height = 28\n",
    "\n",
    "image = Image.new('RGB', (width, height), (0, 0, 0))\n",
    "draw = ImageDraw.Draw(image)\n",
    "pixels = image.load()\n",
    "\n",
    "index = 0\n",
    "for x in range(width):\n",
    "    for y in range(height):\n",
    "        pixels[y, x] = (int(rgb[index][0]), int(rgb[index][1]), int(rgb[index][2]))\n",
    "        index += 1\n",
    "display(image)\n",
    "#image.save('pokemon.jpg', 'jpeg')"
   ]
  },
  {
   "cell_type": "markdown",
   "metadata": {},
   "source": [
    "&emsp;Which shows it is Pikachu!\n",
    "\n",
    "(b)\n",
    "\n",
    "&emsp;This is a dataset about Pokemon's information, including the attributes, types, egg steps, weakness types, height, weight and so on."
   ]
  }
 ],
 "metadata": {
  "kernelspec": {
   "display_name": "Python 3",
   "language": "python",
   "name": "python3"
  },
  "language_info": {
   "codemirror_mode": {
    "name": "ipython",
    "version": 3
   },
   "file_extension": ".py",
   "mimetype": "text/x-python",
   "name": "python",
   "nbconvert_exporter": "python",
   "pygments_lexer": "ipython3",
   "version": "3.7.3"
  }
 },
 "nbformat": 4,
 "nbformat_minor": 2
}
