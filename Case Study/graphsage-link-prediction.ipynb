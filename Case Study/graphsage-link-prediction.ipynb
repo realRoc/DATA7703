{
 "cells": [
  {
   "cell_type": "markdown",
   "metadata": {},
   "source": [
    "# Link prediction with GraphSAGE"
   ]
  },
  {
   "cell_type": "markdown",
   "metadata": {
    "nbsphinx": "hidden",
    "tags": [
     "CloudRunner"
    ]
   },
   "source": [
    "<table><tr><td>Run the latest release of this notebook:</td><td><a href=\"https://mybinder.org/v2/gh/stellargraph/stellargraph/master?urlpath=lab/tree/demos/link-prediction/graphsage-link-prediction.ipynb\" alt=\"Open In Binder\" target=\"_parent\"><img src=\"https://mybinder.org/badge_logo.svg\"/></a></td><td><a href=\"https://colab.research.google.com/github/stellargraph/stellargraph/blob/master/demos/link-prediction/graphsage-link-prediction.ipynb\" alt=\"Open In Colab\" target=\"_parent\"><img src=\"https://colab.research.google.com/assets/colab-badge.svg\"/></a></td></tr></table>"
   ]
  },
  {
   "cell_type": "markdown",
   "metadata": {},
   "source": [
    "In this example, we use our implementation of the [GraphSAGE](http://snap.stanford.edu/graphsage/) algorithm to build a model that predicts citation links in the Cora dataset (see below). The problem is treated as a supervised link prediction problem on a homogeneous citation network with nodes representing papers (with attributes such as binary keyword indicators and categorical subject) and links corresponding to paper-paper citations. \n",
    "\n",
    "To address this problem, we build a model with the following architecture. First we build a two-layer GraphSAGE model that takes labeled node pairs (`citing-paper` -> `cited-paper`)  corresponding to possible citation links, and outputs a pair of node embeddings for the `citing-paper` and `cited-paper` nodes of the pair. These embeddings are then fed into a link classification layer, which first applies a binary operator to those node embeddings (e.g., concatenating them) to construct the embedding of the potential link. Thus obtained link embeddings are passed through the dense link classification layer to obtain link predictions - probability for these candidate links to actually exist in the network. The entire model is trained end-to-end by minimizing the loss function of choice (e.g., binary cross-entropy between predicted link probabilities and true link labels, with true/false citation links having labels 1/0) using stochastic gradient descent (SGD) updates of the model parameters, with minibatches of 'training' links fed into the model."
   ]
  },
  {
   "cell_type": "code",
   "execution_count": 1,
   "metadata": {},
   "outputs": [],
   "source": [
    "import stellargraph as sg\n",
    "from stellargraph.data import EdgeSplitter\n",
    "from stellargraph.mapper import GraphSAGELinkGenerator\n",
    "from stellargraph.layer import GraphSAGE, HinSAGE, link_classification\n",
    "\n",
    "from tensorflow import keras\n",
    "from sklearn import preprocessing, feature_extraction, model_selection\n",
    "\n",
    "from stellargraph import globalvar\n",
    "from stellargraph import datasets\n",
    "from IPython.display import display, HTML\n",
    "%matplotlib inline"
   ]
  },
  {
   "cell_type": "markdown",
   "metadata": {},
   "source": [
    "## Loading the CORA network data"
   ]
  },
  {
   "cell_type": "markdown",
   "metadata": {
    "tags": [
     "DataLoadingLinks"
    ]
   },
   "source": [
    "(See [the \"Loading from Pandas\" demo](../basics/loading-pandas.ipynb) for details on how data can be loaded.)"
   ]
  },
  {
   "cell_type": "code",
   "execution_count": 2,
   "metadata": {
    "tags": [
     "DataLoading"
    ]
   },
   "outputs": [
    {
     "data": {
      "text/html": [
       "The Cora dataset consists of 2708 scientific publications classified into one of seven classes. The citation network consists of 5429 links. Each publication in the dataset is described by a 0/1-valued word vector indicating the absence/presence of the corresponding word from the dictionary. The dictionary consists of 1433 unique words."
      ],
      "text/plain": [
       "<IPython.core.display.HTML object>"
      ]
     },
     "metadata": {},
     "output_type": "display_data"
    }
   ],
   "source": [
    "dataset = datasets.Cora()\n",
    "display(HTML(dataset.description))\n",
    "G, _ = dataset.load(subject_as_feature=True)"
   ]
  },
  {
   "cell_type": "code",
   "execution_count": 3,
   "metadata": {},
   "outputs": [
    {
     "name": "stdout",
     "output_type": "stream",
     "text": [
      "StellarGraph: Undirected multigraph\n",
      " Nodes: 2708, Edges: 5429\n",
      "\n",
      " Node types:\n",
      "  paper: [2708]\n",
      "    Features: float32 vector, length 1440\n",
      "    Edge types: paper-cites->paper\n",
      "\n",
      " Edge types:\n",
      "    paper-cites->paper: [5429]\n",
      "        Weights: all 1 (default)\n"
     ]
    }
   ],
   "source": [
    "print(G.info())"
   ]
  },
  {
   "cell_type": "markdown",
   "metadata": {},
   "source": [
    "We aim to train a link prediction model, hence we need to prepare the train and test sets of links and the corresponding graphs with those links removed.\n",
    "\n",
    "We are going to split our input graph into a train and test graphs using the EdgeSplitter class in `stellargraph.data`. We will use the train graph for training the model (a binary classifier that, given two nodes, predicts whether a link between these two nodes should exist or not) and the test graph for evaluating the model's performance on hold out data.\n",
    "Each of these graphs will have the same number of nodes as the input graph, but the number of links will differ (be reduced) as some of the links will be removed during each split and used as the positive samples for training/testing the link prediction classifier."
   ]
  },
  {
   "cell_type": "markdown",
   "metadata": {},
   "source": [
    "From the original graph G, extract a randomly sampled subset of test edges (true and false citation links) and the reduced graph G_test with the positive test edges removed:"
   ]
  },
  {
   "cell_type": "code",
   "execution_count": 4,
   "metadata": {},
   "outputs": [
    {
     "name": "stdout",
     "output_type": "stream",
     "text": [
      "** Sampled 542 positive and 542 negative edges. **\n"
     ]
    }
   ],
   "source": [
    "# Define an edge splitter on the original graph G:\n",
    "edge_splitter_test = EdgeSplitter(G)\n",
    "\n",
    "# Randomly sample a fraction p=0.1 of all positive links, and same number of negative links, from G, and obtain the\n",
    "# reduced graph G_test with the sampled links removed:\n",
    "G_test, edge_ids_test, edge_labels_test = edge_splitter_test.train_test_split(\n",
    "    p=0.1, method=\"global\", keep_connected=True\n",
    ")"
   ]
  },
  {
   "cell_type": "markdown",
   "metadata": {},
   "source": [
    "The reduced graph G_test, together with the test ground truth set of links (edge_ids_test, edge_labels_test), will be used for testing the model.\n",
    "\n",
    "Now repeat this procedure to obtain the training data for the model. From the reduced graph G_test, extract a randomly sampled subset of train edges (true and false citation links) and the reduced graph G_train with the positive train edges removed:"
   ]
  },
  {
   "cell_type": "code",
   "execution_count": 5,
   "metadata": {},
   "outputs": [
    {
     "name": "stdout",
     "output_type": "stream",
     "text": [
      "** Sampled 488 positive and 488 negative edges. **\n"
     ]
    }
   ],
   "source": [
    "# Define an edge splitter on the reduced graph G_test:\n",
    "edge_splitter_train = EdgeSplitter(G_test)\n",
    "\n",
    "# Randomly sample a fraction p=0.1 of all positive links, and same number of negative links, from G_test, and obtain the\n",
    "# reduced graph G_train with the sampled links removed:\n",
    "G_train, edge_ids_train, edge_labels_train = edge_splitter_train.train_test_split(\n",
    "    p=0.1, method=\"global\", keep_connected=True\n",
    ")"
   ]
  },
  {
   "cell_type": "markdown",
   "metadata": {},
   "source": [
    "G_train, together with the train ground truth set of links (edge_ids_train, edge_labels_train), will be used for training the model."
   ]
  },
  {
   "cell_type": "markdown",
   "metadata": {},
   "source": [
    "Summary of G_train and G_test - note that they have the same set of nodes, only differing in their edge sets:"
   ]
  },
  {
   "cell_type": "code",
   "execution_count": 6,
   "metadata": {},
   "outputs": [
    {
     "name": "stdout",
     "output_type": "stream",
     "text": [
      "StellarGraph: Undirected multigraph\n",
      " Nodes: 2708, Edges: 4399\n",
      "\n",
      " Node types:\n",
      "  paper: [2708]\n",
      "    Features: float32 vector, length 1440\n",
      "    Edge types: paper-cites->paper\n",
      "\n",
      " Edge types:\n",
      "    paper-cites->paper: [4399]\n",
      "        Weights: all 1 (default)\n"
     ]
    }
   ],
   "source": [
    "print(G_train.info())"
   ]
  },
  {
   "cell_type": "code",
   "execution_count": 7,
   "metadata": {},
   "outputs": [
    {
     "name": "stdout",
     "output_type": "stream",
     "text": [
      "StellarGraph: Undirected multigraph\n",
      " Nodes: 2708, Edges: 4887\n",
      "\n",
      " Node types:\n",
      "  paper: [2708]\n",
      "    Features: float32 vector, length 1440\n",
      "    Edge types: paper-cites->paper\n",
      "\n",
      " Edge types:\n",
      "    paper-cites->paper: [4887]\n",
      "        Weights: all 1 (default)\n"
     ]
    }
   ],
   "source": [
    "print(G_test.info())"
   ]
  },
  {
   "cell_type": "markdown",
   "metadata": {},
   "source": [
    "Next, we create the link generators for sampling and streaming train and test link examples to the model. The link generators essentially \"map\" pairs of nodes (`citing-paper`, `cited-paper`) to the input of GraphSAGE: they take minibatches of node pairs, sample 2-hop subgraphs with (`citing-paper`, `cited-paper`) head nodes extracted from those pairs, and feed them, together with the corresponding binary labels indicating whether those pairs represent true or false citation links, to the input layer of the GraphSAGE model, for SGD updates of the model parameters.\n",
    "\n",
    "Specify the minibatch size (number of node pairs per minibatch) and the number of epochs for training the model:"
   ]
  },
  {
   "cell_type": "code",
   "execution_count": 61,
   "metadata": {
    "tags": [
     "parameters"
    ]
   },
   "outputs": [],
   "source": [
    "batch_size = 20\n",
    "epochs = 20"
   ]
  },
  {
   "cell_type": "markdown",
   "metadata": {},
   "source": [
    "Specify the sizes of 1- and 2-hop neighbour samples for GraphSAGE. Note that the length of `num_samples` list defines the number of layers/iterations in the GraphSAGE model. In this example, we are defining a 2-layer GraphSAGE model:"
   ]
  },
  {
   "cell_type": "code",
   "execution_count": 62,
   "metadata": {},
   "outputs": [],
   "source": [
    "num_samples = [20, 10]"
   ]
  },
  {
   "cell_type": "markdown",
   "metadata": {},
   "source": [
    "For training we create a generator on the `G_train` graph, and make an iterator over the training links using the generator's `flow()` method. The `shuffle=True` argument is given to the `flow` method to improve training."
   ]
  },
  {
   "cell_type": "code",
   "execution_count": 63,
   "metadata": {},
   "outputs": [],
   "source": [
    "train_gen = GraphSAGELinkGenerator(G_train, batch_size, num_samples)\n",
    "train_flow = train_gen.flow(edge_ids_train, edge_labels_train, shuffle=True)"
   ]
  },
  {
   "cell_type": "markdown",
   "metadata": {},
   "source": [
    "At test time we use the `G_test` graph and don't specify the `shuffle` argument (it defaults to `False`)."
   ]
  },
  {
   "cell_type": "code",
   "execution_count": 64,
   "metadata": {},
   "outputs": [],
   "source": [
    "test_gen = GraphSAGELinkGenerator(G_test, batch_size, num_samples)\n",
    "test_flow = test_gen.flow(edge_ids_test, edge_labels_test)"
   ]
  },
  {
   "cell_type": "markdown",
   "metadata": {},
   "source": [
    "Build the model: a 2-layer GraphSAGE model acting as node representation learner, with a link classification layer on concatenated (`citing-paper`, `cited-paper`) node embeddings.\n",
    "\n",
    "GraphSAGE part of the model, with hidden layer sizes of 50 for both GraphSAGE layers, a bias term, and no dropout. (Dropout can be switched on by specifying a positive dropout rate, 0 < dropout < 1)\n",
    "Note that the length of layer_sizes list must be equal to the length of num_samples, as len(num_samples) defines the number of hops (layers) in the GraphSAGE model."
   ]
  },
  {
   "cell_type": "code",
   "execution_count": 103,
   "metadata": {},
   "outputs": [],
   "source": [
    "def GraphSAGE_case_study(node_num):\n",
    "    layer_sizes = [node_num, 20]\n",
    "    graphsage = GraphSAGE(\n",
    "        layer_sizes=layer_sizes, generator=train_gen, bias=True, dropout=0.3\n",
    "    )\n",
    "# Build the model and expose input and output sockets of graphsage model\n",
    "# for link prediction\n",
    "    x_inp, x_out = graphsage.in_out_tensors()\n",
    "#Final link classification layer that takes a pair of node embeddings produced by graphsage, applies a binary operator to them to produce the corresponding link embedding ('ip' for inner product; other options for the binary operator can be seen by running a cell with ?link_classification in it), and passes it through a dense layer:\n",
    "    prediction = link_classification(\n",
    "        output_dim=1, output_act=\"relu\", edge_embedding_method=\"ip\"\n",
    "    )(x_out)\n",
    "#Stack the GraphSAGE and prediction layers into a Keras model, and specify the loss\n",
    "    model = keras.Model(inputs=x_inp, outputs=prediction)\n",
    "\n",
    "    model.compile(\n",
    "        optimizer=keras.optimizers.Adam(lr=1e-3),\n",
    "        loss=keras.losses.binary_crossentropy,\n",
    "        metrics=[\"acc\"],\n",
    "    )\n",
    "# Evaluate the initial (untrained) model on the train and test set:\n",
    "    init_train_metrics = model.evaluate(train_flow)\n",
    "    init_test_metrics = model.evaluate(test_flow)\n",
    "\n",
    "    #print(\"\\nTrain Set Metrics of the initial (untrained) model:\")\n",
    "    for name, val in zip(model.metrics_names, init_train_metrics):\n",
    "        print(\"\\t{}: {:0.4f}\".format(name, val))\n",
    "\n",
    "    #print(\"\\nTest Set Metrics of the initial (untrained) model:\")\n",
    "    for name, val in zip(model.metrics_names, init_test_metrics):\n",
    "        print(\"\\t{}: {:0.4f}\".format(name, val))\n",
    "# Train the model:\n",
    "    history = model.fit(train_flow, epochs=epochs, validation_data=test_flow, verbose=2)\n",
    "# Plot the training history:\n",
    "#sg.utils.plot_history(history)\n",
    "# Evaluate the trained model on test citation links:\n",
    "    train_metrics = model.evaluate(train_flow)\n",
    "    test_metrics = model.evaluate(test_flow)\n",
    "\n",
    "    #print(\"\\nTrain Set Metrics of the trained model:\")\n",
    "    #for name, val in zip(model.metrics_names, train_metrics):\n",
    "        #print(\"\\t{}: {:0.4f}\".format(name, val))\n",
    "\n",
    "    #print(\"\\nTest Set Metrics of the trained model:\")\n",
    "    #for name, val in zip(model.metrics_names, test_metrics):\n",
    "        #print(\"\\t{}: {:0.4f}\".format(name, val))\n",
    "    return train_metrics, test_metrics"
   ]
  },
  {
   "cell_type": "code",
   "execution_count": 104,
   "metadata": {},
   "outputs": [
    {
     "name": "stdout",
     "output_type": "stream",
     "text": [
      "link_classification: using 'ip' method to combine node embeddings into edge embeddings\n",
      "49/49 [==============================] - 6s 114ms/step - loss: 1.1184 - acc: 0.5789\n",
      "55/55 [==============================] - 6s 113ms/step - loss: 1.1697 - acc: 0.5710\n",
      "\tloss: 1.1184\n",
      "\tacc: 0.5789\n",
      "\tloss: 1.1697\n",
      "\tacc: 0.5710\n",
      "Epoch 1/20\n",
      "49/49 - 15s - loss: 0.9033 - acc: 0.5564 - val_loss: 0.8689 - val_acc: 0.5793\n",
      "Epoch 2/20\n",
      "49/49 - 14s - loss: 0.7520 - acc: 0.6055 - val_loss: 0.7649 - val_acc: 0.6282\n",
      "Epoch 3/20\n",
      "49/49 - 13s - loss: 0.6764 - acc: 0.6629 - val_loss: 0.7378 - val_acc: 0.6393\n",
      "Epoch 4/20\n",
      "49/49 - 13s - loss: 0.6006 - acc: 0.6988 - val_loss: 0.7141 - val_acc: 0.6624\n",
      "Epoch 5/20\n",
      "49/49 - 13s - loss: 0.5667 - acc: 0.7398 - val_loss: 0.7211 - val_acc: 0.6734\n",
      "Epoch 6/20\n",
      "49/49 - 14s - loss: 0.5563 - acc: 0.7121 - val_loss: 0.7222 - val_acc: 0.6753\n",
      "Epoch 7/20\n",
      "49/49 - 13s - loss: 0.5106 - acc: 0.7510 - val_loss: 0.6857 - val_acc: 0.6946\n",
      "Epoch 8/20\n",
      "49/49 - 13s - loss: 0.5183 - acc: 0.7510 - val_loss: 0.7259 - val_acc: 0.6845\n",
      "Epoch 9/20\n",
      "49/49 - 13s - loss: 0.4833 - acc: 0.7756 - val_loss: 0.7887 - val_acc: 0.6993\n",
      "Epoch 10/20\n",
      "49/49 - 14s - loss: 0.5272 - acc: 0.7613 - val_loss: 0.7860 - val_acc: 0.6614\n",
      "Epoch 11/20\n",
      "49/49 - 13s - loss: 0.4417 - acc: 0.8105 - val_loss: 0.7570 - val_acc: 0.6928\n",
      "Epoch 12/20\n",
      "49/49 - 13s - loss: 0.4177 - acc: 0.8074 - val_loss: 0.7291 - val_acc: 0.6910\n",
      "Epoch 13/20\n",
      "49/49 - 13s - loss: 0.4173 - acc: 0.8125 - val_loss: 0.7346 - val_acc: 0.6771\n",
      "Epoch 14/20\n",
      "49/49 - 13s - loss: 0.4490 - acc: 0.8166 - val_loss: 0.7353 - val_acc: 0.7076\n",
      "Epoch 15/20\n",
      "49/49 - 13s - loss: 0.4038 - acc: 0.8156 - val_loss: 0.7038 - val_acc: 0.7030\n",
      "Epoch 16/20\n",
      "49/49 - 13s - loss: 0.4070 - acc: 0.8309 - val_loss: 0.7518 - val_acc: 0.7020\n",
      "Epoch 17/20\n",
      "49/49 - 13s - loss: 0.3475 - acc: 0.8453 - val_loss: 0.7172 - val_acc: 0.7131\n",
      "Epoch 18/20\n",
      "49/49 - 13s - loss: 0.3754 - acc: 0.8463 - val_loss: 0.6913 - val_acc: 0.7030\n",
      "Epoch 19/20\n",
      "49/49 - 13s - loss: 0.3351 - acc: 0.8576 - val_loss: 0.7848 - val_acc: 0.7002\n",
      "Epoch 20/20\n",
      "49/49 - 13s - loss: 0.3340 - acc: 0.8473 - val_loss: 0.7162 - val_acc: 0.7094\n",
      "49/49 [==============================] - 5s 105ms/step - loss: 0.2223 - acc: 0.9283\n",
      "55/55 [==============================] - 6s 106ms/step - loss: 0.7099 - acc: 0.7048\n",
      "link_classification: using 'ip' method to combine node embeddings into edge embeddings\n",
      "49/49 [==============================] - 5s 105ms/step - loss: 1.8042 - acc: 0.5861\n",
      "55/55 [==============================] - 6s 105ms/step - loss: 1.5059 - acc: 0.5766\n",
      "\tloss: 1.8042\n",
      "\tacc: 0.5861\n",
      "\tloss: 1.5059\n",
      "\tacc: 0.5766\n",
      "Epoch 1/20\n",
      "49/49 - 13s - loss: 1.0483 - acc: 0.5697 - val_loss: 0.7214 - val_acc: 0.6052\n",
      "Epoch 2/20\n",
      "49/49 - 13s - loss: 0.7794 - acc: 0.6260 - val_loss: 0.6656 - val_acc: 0.6375\n",
      "Epoch 3/20\n",
      "49/49 - 13s - loss: 0.6456 - acc: 0.6639 - val_loss: 0.6367 - val_acc: 0.6614\n",
      "Epoch 4/20\n",
      "49/49 - 13s - loss: 0.5709 - acc: 0.7326 - val_loss: 0.6394 - val_acc: 0.6799\n",
      "Epoch 5/20\n",
      "49/49 - 13s - loss: 0.5132 - acc: 0.7531 - val_loss: 0.6133 - val_acc: 0.6928\n",
      "Epoch 6/20\n",
      "49/49 - 13s - loss: 0.4627 - acc: 0.7766 - val_loss: 0.6734 - val_acc: 0.7131\n",
      "Epoch 7/20\n",
      "49/49 - 13s - loss: 0.4604 - acc: 0.8023 - val_loss: 0.6693 - val_acc: 0.7196\n",
      "Epoch 8/20\n",
      "49/49 - 13s - loss: 0.4064 - acc: 0.8248 - val_loss: 0.6972 - val_acc: 0.7242\n",
      "Epoch 9/20\n",
      "49/49 - 12s - loss: 0.3676 - acc: 0.8320 - val_loss: 0.6904 - val_acc: 0.7223\n",
      "Epoch 10/20\n",
      "49/49 - 13s - loss: 0.3690 - acc: 0.8432 - val_loss: 0.7237 - val_acc: 0.7472\n",
      "Epoch 11/20\n",
      "49/49 - 13s - loss: 0.3584 - acc: 0.8678 - val_loss: 0.6777 - val_acc: 0.7269\n",
      "Epoch 12/20\n",
      "49/49 - 13s - loss: 0.3329 - acc: 0.8545 - val_loss: 0.7244 - val_acc: 0.7371\n",
      "Epoch 13/20\n",
      "49/49 - 12s - loss: 0.3090 - acc: 0.8730 - val_loss: 0.7630 - val_acc: 0.7500\n",
      "Epoch 14/20\n",
      "49/49 - 13s - loss: 0.2957 - acc: 0.8883 - val_loss: 0.7852 - val_acc: 0.7454\n",
      "Epoch 15/20\n",
      "49/49 - 13s - loss: 0.2948 - acc: 0.8934 - val_loss: 0.7018 - val_acc: 0.7039\n",
      "Epoch 16/20\n",
      "49/49 - 13s - loss: 0.3689 - acc: 0.8740 - val_loss: 0.7067 - val_acc: 0.7168\n",
      "Epoch 17/20\n",
      "49/49 - 13s - loss: 0.3184 - acc: 0.8750 - val_loss: 0.7286 - val_acc: 0.7297\n",
      "Epoch 18/20\n",
      "49/49 - 13s - loss: 0.2959 - acc: 0.8904 - val_loss: 0.7148 - val_acc: 0.7325\n",
      "Epoch 19/20\n",
      "49/49 - 13s - loss: 0.2883 - acc: 0.8965 - val_loss: 0.7078 - val_acc: 0.7399\n",
      "Epoch 20/20\n",
      "49/49 - 13s - loss: 0.2566 - acc: 0.9129 - val_loss: 0.7386 - val_acc: 0.7482\n",
      "49/49 [==============================] - 5s 108ms/step - loss: 0.1879 - acc: 0.9436\n",
      "55/55 [==============================] - 6s 106ms/step - loss: 0.7534 - acc: 0.7482\n",
      "link_classification: using 'ip' method to combine node embeddings into edge embeddings\n",
      "49/49 [==============================] - 5s 108ms/step - loss: 1.2248 - acc: 0.6168\n",
      "55/55 [==============================] - 6s 107ms/step - loss: 0.9092 - acc: 0.6421\n",
      "\tloss: 1.2248\n",
      "\tacc: 0.6168\n",
      "\tloss: 0.9092\n",
      "\tacc: 0.6421\n",
      "Epoch 1/20\n",
      "49/49 - 13s - loss: 0.9617 - acc: 0.5850 - val_loss: 0.7483 - val_acc: 0.6006\n",
      "Epoch 2/20\n",
      "49/49 - 13s - loss: 0.6854 - acc: 0.6230 - val_loss: 0.6542 - val_acc: 0.6375\n",
      "Epoch 3/20\n",
      "49/49 - 13s - loss: 0.6103 - acc: 0.6855 - val_loss: 0.5865 - val_acc: 0.6891\n",
      "Epoch 4/20\n",
      "49/49 - 13s - loss: 0.5809 - acc: 0.7182 - val_loss: 0.5681 - val_acc: 0.6956\n",
      "Epoch 5/20\n",
      "49/49 - 13s - loss: 0.4904 - acc: 0.7592 - val_loss: 0.5613 - val_acc: 0.7085\n",
      "Epoch 6/20\n",
      "49/49 - 12s - loss: 0.4513 - acc: 0.7777 - val_loss: 0.5370 - val_acc: 0.7315\n",
      "Epoch 7/20\n",
      "49/49 - 13s - loss: 0.4104 - acc: 0.8197 - val_loss: 0.5477 - val_acc: 0.7445\n",
      "Epoch 8/20\n",
      "49/49 - 12s - loss: 0.4320 - acc: 0.8412 - val_loss: 0.5393 - val_acc: 0.7518\n",
      "Epoch 9/20\n",
      "49/49 - 13s - loss: 0.3813 - acc: 0.8484 - val_loss: 0.5136 - val_acc: 0.7666\n",
      "Epoch 10/20\n",
      "49/49 - 13s - loss: 0.3552 - acc: 0.8617 - val_loss: 0.5179 - val_acc: 0.7694\n",
      "Epoch 11/20\n",
      "49/49 - 13s - loss: 0.3183 - acc: 0.8965 - val_loss: 0.5450 - val_acc: 0.7795\n",
      "Epoch 12/20\n",
      "49/49 - 13s - loss: 0.3391 - acc: 0.8719 - val_loss: 0.4973 - val_acc: 0.7666\n",
      "Epoch 13/20\n",
      "49/49 - 13s - loss: 0.3059 - acc: 0.8945 - val_loss: 0.5385 - val_acc: 0.7795\n",
      "Epoch 14/20\n",
      "49/49 - 13s - loss: 0.3520 - acc: 0.8760 - val_loss: 0.5404 - val_acc: 0.7205\n",
      "Epoch 15/20\n",
      "49/49 - 13s - loss: 0.3190 - acc: 0.8883 - val_loss: 0.4891 - val_acc: 0.7611\n",
      "Epoch 16/20\n",
      "49/49 - 13s - loss: 0.2804 - acc: 0.9078 - val_loss: 0.4927 - val_acc: 0.7685\n",
      "Epoch 17/20\n",
      "49/49 - 13s - loss: 0.2794 - acc: 0.9109 - val_loss: 0.4760 - val_acc: 0.7648\n",
      "Epoch 18/20\n",
      "49/49 - 13s - loss: 0.2721 - acc: 0.9160 - val_loss: 0.4775 - val_acc: 0.7749\n",
      "Epoch 19/20\n",
      "49/49 - 12s - loss: 0.2516 - acc: 0.9129 - val_loss: 0.4869 - val_acc: 0.7758\n",
      "Epoch 20/20\n",
      "49/49 - 12s - loss: 0.2301 - acc: 0.9303 - val_loss: 0.4804 - val_acc: 0.7758\n",
      "49/49 [==============================] - 5s 101ms/step - loss: 0.1474 - acc: 0.9652\n",
      "55/55 [==============================] - 5s 100ms/step - loss: 0.4714 - acc: 0.7869\n",
      "link_classification: using 'ip' method to combine node embeddings into edge embeddings\n",
      "49/49 [==============================] - 5s 101ms/step - loss: 0.6834 - acc: 0.6035\n",
      "55/55 [==============================] - 6s 101ms/step - loss: 0.7100 - acc: 0.6015\n",
      "\tloss: 0.6834\n",
      "\tacc: 0.6035\n",
      "\tloss: 0.7100\n",
      "\tacc: 0.6015\n",
      "Epoch 1/20\n",
      "49/49 - 13s - loss: 0.7173 - acc: 0.5902 - val_loss: 0.6417 - val_acc: 0.6282\n",
      "Epoch 2/20\n",
      "49/49 - 13s - loss: 0.5969 - acc: 0.6865 - val_loss: 0.6007 - val_acc: 0.6642\n",
      "Epoch 3/20\n",
      "49/49 - 13s - loss: 0.5356 - acc: 0.7449 - val_loss: 0.5673 - val_acc: 0.7048\n",
      "Epoch 4/20\n",
      "49/49 - 12s - loss: 0.4789 - acc: 0.7869 - val_loss: 0.5517 - val_acc: 0.7325\n",
      "Epoch 5/20\n",
      "49/49 - 12s - loss: 0.4279 - acc: 0.8156 - val_loss: 0.5272 - val_acc: 0.7463\n",
      "Epoch 6/20\n",
      "49/49 - 13s - loss: 0.3828 - acc: 0.8525 - val_loss: 0.5457 - val_acc: 0.7537\n",
      "Epoch 7/20\n",
      "49/49 - 13s - loss: 0.3786 - acc: 0.8617 - val_loss: 0.5683 - val_acc: 0.7795\n",
      "Epoch 8/20\n",
      "49/49 - 13s - loss: 0.3238 - acc: 0.8883 - val_loss: 0.5324 - val_acc: 0.7685\n",
      "Epoch 9/20\n",
      "49/49 - 13s - loss: 0.3307 - acc: 0.8791 - val_loss: 0.5674 - val_acc: 0.7795\n",
      "Epoch 10/20\n",
      "49/49 - 13s - loss: 0.2766 - acc: 0.9170 - val_loss: 0.5635 - val_acc: 0.7795\n",
      "Epoch 11/20\n",
      "49/49 - 13s - loss: 0.2832 - acc: 0.9027 - val_loss: 0.5583 - val_acc: 0.7934\n",
      "Epoch 12/20\n",
      "49/49 - 13s - loss: 0.2600 - acc: 0.9180 - val_loss: 0.5628 - val_acc: 0.7980\n",
      "Epoch 13/20\n"
     ]
    },
    {
     "name": "stdout",
     "output_type": "stream",
     "text": [
      "49/49 - 14s - loss: 0.2328 - acc: 0.9406 - val_loss: 0.5804 - val_acc: 0.7878\n",
      "Epoch 14/20\n",
      "49/49 - 13s - loss: 0.2361 - acc: 0.9314 - val_loss: 0.5870 - val_acc: 0.7915\n",
      "Epoch 15/20\n",
      "49/49 - 12s - loss: 0.2330 - acc: 0.9303 - val_loss: 0.6015 - val_acc: 0.7897\n",
      "Epoch 16/20\n",
      "49/49 - 13s - loss: 0.2176 - acc: 0.9385 - val_loss: 0.6163 - val_acc: 0.7952\n",
      "Epoch 17/20\n",
      "49/49 - 13s - loss: 0.2284 - acc: 0.9416 - val_loss: 0.5720 - val_acc: 0.7943\n",
      "Epoch 18/20\n",
      "49/49 - 13s - loss: 0.1932 - acc: 0.9529 - val_loss: 0.6162 - val_acc: 0.7998\n",
      "Epoch 19/20\n",
      "49/49 - 12s - loss: 0.1860 - acc: 0.9488 - val_loss: 0.6384 - val_acc: 0.7943\n",
      "Epoch 20/20\n",
      "49/49 - 12s - loss: 0.1672 - acc: 0.9600 - val_loss: 0.6274 - val_acc: 0.7980\n",
      "49/49 [==============================] - 5s 111ms/step - loss: 0.0934 - acc: 0.9867\n",
      "55/55 [==============================] - 6s 117ms/step - loss: 0.6694 - acc: 0.7924\n",
      "link_classification: using 'ip' method to combine node embeddings into edge embeddings\n",
      "49/49 [==============================] - 5s 103ms/step - loss: 0.7634 - acc: 0.6004\n",
      "55/55 [==============================] - 6s 102ms/step - loss: 0.8279 - acc: 0.6107\n",
      "\tloss: 0.7634\n",
      "\tacc: 0.6004\n",
      "\tloss: 0.8279\n",
      "\tacc: 0.6107\n",
      "Epoch 1/20\n",
      "49/49 - 13s - loss: 0.8082 - acc: 0.5717 - val_loss: 0.6462 - val_acc: 0.6144\n",
      "Epoch 2/20\n",
      "49/49 - 12s - loss: 0.6298 - acc: 0.6629 - val_loss: 0.5716 - val_acc: 0.6983\n",
      "Epoch 3/20\n",
      "49/49 - 13s - loss: 0.5422 - acc: 0.7510 - val_loss: 0.5567 - val_acc: 0.7500\n",
      "Epoch 4/20\n",
      "49/49 - 13s - loss: 0.4539 - acc: 0.8064 - val_loss: 0.5330 - val_acc: 0.7426\n",
      "Epoch 5/20\n",
      "49/49 - 13s - loss: 0.4046 - acc: 0.8207 - val_loss: 0.5630 - val_acc: 0.7749\n",
      "Epoch 6/20\n",
      "49/49 - 13s - loss: 0.3860 - acc: 0.8453 - val_loss: 0.5316 - val_acc: 0.7546\n",
      "Epoch 7/20\n",
      "49/49 - 13s - loss: 0.3476 - acc: 0.8627 - val_loss: 0.5238 - val_acc: 0.7768\n",
      "Epoch 8/20\n",
      "49/49 - 13s - loss: 0.3135 - acc: 0.8986 - val_loss: 0.5843 - val_acc: 0.7777\n",
      "Epoch 9/20\n",
      "49/49 - 13s - loss: 0.2960 - acc: 0.9006 - val_loss: 0.5739 - val_acc: 0.7887\n",
      "Epoch 10/20\n",
      "49/49 - 12s - loss: 0.2512 - acc: 0.9180 - val_loss: 0.6098 - val_acc: 0.7897\n",
      "Epoch 11/20\n",
      "49/49 - 12s - loss: 0.2534 - acc: 0.9262 - val_loss: 0.6258 - val_acc: 0.7777\n",
      "Epoch 12/20\n",
      "49/49 - 12s - loss: 0.2292 - acc: 0.9406 - val_loss: 0.5958 - val_acc: 0.7823\n",
      "Epoch 13/20\n",
      "49/49 - 12s - loss: 0.2151 - acc: 0.9355 - val_loss: 0.6744 - val_acc: 0.7814\n",
      "Epoch 14/20\n",
      "49/49 - 13s - loss: 0.1973 - acc: 0.9549 - val_loss: 0.6504 - val_acc: 0.7731\n",
      "Epoch 15/20\n",
      "49/49 - 13s - loss: 0.2176 - acc: 0.9539 - val_loss: 0.7343 - val_acc: 0.7786\n",
      "Epoch 16/20\n",
      "49/49 - 13s - loss: 0.1785 - acc: 0.9559 - val_loss: 0.7960 - val_acc: 0.7832\n",
      "Epoch 17/20\n",
      "49/49 - 13s - loss: 0.1766 - acc: 0.9662 - val_loss: 0.6529 - val_acc: 0.7675\n",
      "Epoch 18/20\n",
      "49/49 - 13s - loss: 0.1731 - acc: 0.9580 - val_loss: 0.7329 - val_acc: 0.7703\n",
      "Epoch 19/20\n",
      "49/49 - 13s - loss: 0.1646 - acc: 0.9775 - val_loss: 0.7613 - val_acc: 0.7749\n",
      "Epoch 20/20\n",
      "49/49 - 13s - loss: 0.1554 - acc: 0.9682 - val_loss: 0.7882 - val_acc: 0.7768\n",
      "49/49 [==============================] - 5s 100ms/step - loss: 0.0741 - acc: 0.9918\n",
      "55/55 [==============================] - 5s 99ms/step - loss: 0.8050 - acc: 0.7721\n",
      "link_classification: using 'ip' method to combine node embeddings into edge embeddings\n",
      "49/49 [==============================] - 5s 99ms/step - loss: 0.7178 - acc: 0.6322\n",
      "55/55 [==============================] - 5s 98ms/step - loss: 0.7156 - acc: 0.6476\n",
      "\tloss: 0.7178\n",
      "\tacc: 0.6322\n",
      "\tloss: 0.7156\n",
      "\tacc: 0.6476\n",
      "Epoch 1/20\n",
      "49/49 - 14s - loss: 0.7839 - acc: 0.6066 - val_loss: 0.6585 - val_acc: 0.5913\n",
      "Epoch 2/20\n",
      "49/49 - 13s - loss: 0.5763 - acc: 0.6814 - val_loss: 0.5694 - val_acc: 0.6873\n",
      "Epoch 3/20\n",
      "49/49 - 12s - loss: 0.4734 - acc: 0.7838 - val_loss: 0.4912 - val_acc: 0.7555\n",
      "Epoch 4/20\n",
      "49/49 - 13s - loss: 0.4224 - acc: 0.8381 - val_loss: 0.4848 - val_acc: 0.7712\n",
      "Epoch 5/20\n",
      "49/49 - 12s - loss: 0.4046 - acc: 0.8381 - val_loss: 0.4884 - val_acc: 0.7915\n",
      "Epoch 6/20\n",
      "49/49 - 12s - loss: 0.3365 - acc: 0.8668 - val_loss: 0.5126 - val_acc: 0.7897\n",
      "Epoch 7/20\n",
      "49/49 - 13s - loss: 0.3000 - acc: 0.9047 - val_loss: 0.5351 - val_acc: 0.7906\n",
      "Epoch 8/20\n",
      "49/49 - 13s - loss: 0.2877 - acc: 0.9098 - val_loss: 0.5291 - val_acc: 0.8054\n",
      "Epoch 9/20\n",
      "49/49 - 13s - loss: 0.2793 - acc: 0.9221 - val_loss: 0.5122 - val_acc: 0.8081\n",
      "Epoch 10/20\n",
      "49/49 - 13s - loss: 0.2454 - acc: 0.9365 - val_loss: 0.5722 - val_acc: 0.8127\n",
      "Epoch 11/20\n",
      "49/49 - 13s - loss: 0.2298 - acc: 0.9426 - val_loss: 0.5567 - val_acc: 0.7998\n",
      "Epoch 12/20\n",
      "49/49 - 13s - loss: 0.2318 - acc: 0.9477 - val_loss: 0.5674 - val_acc: 0.7980\n",
      "Epoch 13/20\n",
      "49/49 - 13s - loss: 0.2120 - acc: 0.9447 - val_loss: 0.6029 - val_acc: 0.8063\n",
      "Epoch 14/20\n",
      "49/49 - 12s - loss: 0.1992 - acc: 0.9559 - val_loss: 0.6390 - val_acc: 0.8007\n",
      "Epoch 15/20\n",
      "49/49 - 14s - loss: 0.1941 - acc: 0.9631 - val_loss: 0.6024 - val_acc: 0.7952\n",
      "Epoch 16/20\n",
      "49/49 - 12s - loss: 0.1855 - acc: 0.9580 - val_loss: 0.6367 - val_acc: 0.7952\n",
      "Epoch 17/20\n",
      "49/49 - 13s - loss: 0.1717 - acc: 0.9764 - val_loss: 0.6988 - val_acc: 0.8090\n",
      "Epoch 18/20\n",
      "49/49 - 13s - loss: 0.1684 - acc: 0.9713 - val_loss: 0.6475 - val_acc: 0.7860\n",
      "Epoch 19/20\n",
      "49/49 - 13s - loss: 0.1651 - acc: 0.9672 - val_loss: 0.7303 - val_acc: 0.7906\n",
      "Epoch 20/20\n",
      "49/49 - 13s - loss: 0.1573 - acc: 0.9764 - val_loss: 0.6282 - val_acc: 0.7970\n",
      "49/49 [==============================] - 5s 106ms/step - loss: 0.0767 - acc: 0.9949\n",
      "55/55 [==============================] - 6s 106ms/step - loss: 0.6587 - acc: 0.7924\n",
      "link_classification: using 'ip' method to combine node embeddings into edge embeddings\n",
      "49/49 [==============================] - 5s 107ms/step - loss: 0.6737 - acc: 0.6711\n",
      "55/55 [==============================] - 6s 106ms/step - loss: 0.7393 - acc: 0.6605\n",
      "\tloss: 0.6737\n",
      "\tacc: 0.6711\n",
      "\tloss: 0.7393\n",
      "\tacc: 0.6605\n",
      "Epoch 1/20\n",
      "49/49 - 13s - loss: 0.7866 - acc: 0.6301 - val_loss: 0.6139 - val_acc: 0.6338\n",
      "Epoch 2/20\n",
      "49/49 - 13s - loss: 0.5749 - acc: 0.7090 - val_loss: 0.5043 - val_acc: 0.7435\n",
      "Epoch 3/20\n",
      "49/49 - 13s - loss: 0.4716 - acc: 0.8033 - val_loss: 0.4527 - val_acc: 0.7906\n",
      "Epoch 4/20\n",
      "49/49 - 13s - loss: 0.3852 - acc: 0.8689 - val_loss: 0.4136 - val_acc: 0.8210\n",
      "Epoch 5/20\n",
      "49/49 - 13s - loss: 0.3353 - acc: 0.8791 - val_loss: 0.4091 - val_acc: 0.8238\n",
      "Epoch 6/20\n",
      "49/49 - 13s - loss: 0.2703 - acc: 0.9262 - val_loss: 0.3870 - val_acc: 0.8312\n",
      "Epoch 7/20\n",
      "49/49 - 13s - loss: 0.2486 - acc: 0.9324 - val_loss: 0.4047 - val_acc: 0.8321\n",
      "Epoch 8/20\n",
      "49/49 - 13s - loss: 0.2179 - acc: 0.9498 - val_loss: 0.3920 - val_acc: 0.8321\n",
      "Epoch 9/20\n",
      "49/49 - 13s - loss: 0.2091 - acc: 0.9508 - val_loss: 0.4097 - val_acc: 0.8339\n",
      "Epoch 10/20\n",
      "49/49 - 13s - loss: 0.1928 - acc: 0.9590 - val_loss: 0.4038 - val_acc: 0.8349\n",
      "Epoch 11/20\n",
      "49/49 - 13s - loss: 0.1674 - acc: 0.9713 - val_loss: 0.3928 - val_acc: 0.8376\n",
      "Epoch 12/20\n",
      "49/49 - 13s - loss: 0.1545 - acc: 0.9775 - val_loss: 0.3965 - val_acc: 0.8423\n",
      "Epoch 13/20\n",
      "49/49 - 13s - loss: 0.1466 - acc: 0.9775 - val_loss: 0.4119 - val_acc: 0.8339\n",
      "Epoch 14/20\n",
      "49/49 - 13s - loss: 0.1367 - acc: 0.9805 - val_loss: 0.4182 - val_acc: 0.8339\n",
      "Epoch 15/20\n",
      "49/49 - 12s - loss: 0.1208 - acc: 0.9898 - val_loss: 0.4603 - val_acc: 0.8376\n",
      "Epoch 16/20\n",
      "49/49 - 13s - loss: 0.1190 - acc: 0.9877 - val_loss: 0.4763 - val_acc: 0.8349\n",
      "Epoch 17/20\n",
      "49/49 - 13s - loss: 0.1147 - acc: 0.9826 - val_loss: 0.4935 - val_acc: 0.8321\n",
      "Epoch 18/20\n",
      "49/49 - 13s - loss: 0.0964 - acc: 0.9918 - val_loss: 0.5347 - val_acc: 0.8303\n",
      "Epoch 19/20\n",
      "49/49 - 12s - loss: 0.0915 - acc: 0.9908 - val_loss: 0.5174 - val_acc: 0.8312\n",
      "Epoch 20/20\n",
      "49/49 - 13s - loss: 0.0897 - acc: 0.9898 - val_loss: 0.5259 - val_acc: 0.8293\n",
      "49/49 [==============================] - 5s 106ms/step - loss: 0.0423 - acc: 0.9980\n",
      "55/55 [==============================] - 6s 107ms/step - loss: 0.5254 - acc: 0.8220\n"
     ]
    }
   ],
   "source": [
    "nodes = [2, 4, 6, 8, 10, 15, 20]\n",
    "output = []\n",
    "for node_num in nodes:\n",
    "    output.append(GraphSAGE_case_study(node_num))"
   ]
  },
  {
   "cell_type": "code",
   "execution_count": 106,
   "metadata": {},
   "outputs": [],
   "source": [
    "train_loss1 = []\n",
    "train_acc1 = []\n",
    "test_loss1 = []\n",
    "test_acc1 = []\n",
    "for metrics in output:\n",
    "    train_loss1.append(metrics[0][0])\n",
    "    train_acc1.append(1/metrics[0][1])\n",
    "    test_loss1.append(metrics[1][0])\n",
    "    test_acc1.append(1/metrics[1][1])"
   ]
  },
  {
   "cell_type": "code",
   "execution_count": 108,
   "metadata": {},
   "outputs": [
    {
     "data": {
      "image/png": "[encoded data removed]",
      "text/plain": [
       "<Figure size 432x288 with 1 Axes>"
      ]
     },
     "metadata": {
      "needs_background": "light"
     },
     "output_type": "display_data"
    }
   ],
   "source": [
    "import matplotlib.pyplot as plt\n",
    "plt.plot(range(len(nodes)), train_loss1, label = 'train')\n",
    "plt.plot(range(len(nodes)), test_loss1, label = 'test')\n",
    "plt.axis()\n",
    "plt.xticks([i for i in range(len(nodes))], [i for i in nodes], rotation=30)\n",
    "plt.xlabel('Model parameters: nodes in the hidden layer')\n",
    "plt.ylabel('Binary cross-entropy loss')\n",
    "plt.title('GraphSAGE  for Cora')\n",
    "plt.legend();"
   ]
  },
  {
   "cell_type": "code",
   "execution_count": 109,
   "metadata": {},
   "outputs": [
    {
     "data": {
      "image/png": "[encoded data removed]",
      "text/plain": [
       "<Figure size 432x288 with 1 Axes>"
      ]
     },
     "metadata": {
      "needs_background": "light"
     },
     "output_type": "display_data"
    }
   ],
   "source": [
    "plt.plot(range(len(nodes)), train_acc1, label = 'train')\n",
    "plt.plot(range(len(nodes)), test_acc1, label = 'test')\n",
    "plt.axis()\n",
    "plt.xticks([i for i in range(len(nodes))], [i for i in nodes], rotation=30)\n",
    "plt.xlabel('Model parameters: nodes in the hidden layer')\n",
    "plt.ylabel('Zero-one loss (%)')\n",
    "plt.title('GraphSAGE  for Cora')\n",
    "plt.legend();"
   ]
  },
  {
   "cell_type": "code",
   "execution_count": 98,
   "metadata": {},
   "outputs": [
    {
     "data": {
      "image/png": "[encoded data removed]",
      "text/plain": [
       "<Figure size 432x288 with 1 Axes>"
      ]
     },
     "metadata": {
      "needs_background": "light"
     },
     "output_type": "display_data"
    }
   ],
   "source": [
    "import matplotlib.pyplot as plt\n",
    "plt.plot(range(len(output1)), train_loss1, label = 'train')\n",
    "plt.plot(range(len(output1)), test_loss1, label = 'test')\n",
    "plt.axis()\n",
    "plt.xticks([i for i in range(len(output1))], [i for i in output1], rotation=30)\n",
    "plt.xlabel('Model parameters: nodes in the hidden layer')\n",
    "plt.ylabel('Binary cross-entropy loss')\n",
    "plt.title('GraphSAGE  for Cora')\n",
    "plt.legend();"
   ]
  },
  {
   "cell_type": "code",
   "execution_count": 100,
   "metadata": {},
   "outputs": [
    {
     "data": {
      "image/png": "[encoded data removed]",
      "text/plain": [
       "<Figure size 432x288 with 1 Axes>"
      ]
     },
     "metadata": {
      "needs_background": "light"
     },
     "output_type": "display_data"
    }
   ],
   "source": [
    "plt.plot(range(len(output1)), train_acc1, label = 'train')\n",
    "plt.plot(range(len(output1)), test_acc1, label = 'test')\n",
    "plt.axis()\n",
    "plt.xticks([i for i in range(len(output1))], [i for i in output1], rotation=30)\n",
    "plt.xlabel('Model parameters: nodes in the hidden layer')\n",
    "plt.ylabel('Zero-one loss (%)')\n",
    "plt.title('GraphSAGE  for Cora')\n",
    "plt.legend();"
   ]
  },
  {
   "cell_type": "code",
   "execution_count": 66,
   "metadata": {},
   "outputs": [],
   "source": [
    "nodes = [20, 5000, 10000, 20000, 25000, 30000, 40000, 50000, 60000]"
   ]
  },
  {
   "cell_type": "code",
   "execution_count": 67,
   "metadata": {},
   "outputs": [
    {
     "name": "stdout",
     "output_type": "stream",
     "text": [
      "link_classification: using 'ip' method to combine node embeddings into edge embeddings\n",
      "49/49 [==============================] - 5s 101ms/step - loss: 0.6677 - acc: 0.6434\n",
      "55/55 [==============================] - 6s 105ms/step - loss: 0.6428 - acc: 0.6375\n",
      "\tloss: 0.6677\n",
      "\tacc: 0.6434\n",
      "\tloss: 0.6428\n",
      "\tacc: 0.6375\n",
      "Epoch 1/20\n",
      "49/49 - 13s - loss: 0.6814 - acc: 0.6055 - val_loss: 0.5946 - val_acc: 0.6522\n",
      "Epoch 2/20\n",
      "49/49 - 13s - loss: 0.5580 - acc: 0.7398 - val_loss: 0.4742 - val_acc: 0.7768\n",
      "Epoch 3/20\n",
      "49/49 - 12s - loss: 0.4244 - acc: 0.8391 - val_loss: 0.4400 - val_acc: 0.7998\n",
      "Epoch 4/20\n",
      "49/49 - 13s - loss: 0.3729 - acc: 0.8863 - val_loss: 0.4091 - val_acc: 0.8173\n",
      "Epoch 5/20\n",
      "49/49 - 13s - loss: 0.3071 - acc: 0.9027 - val_loss: 0.3778 - val_acc: 0.8275\n",
      "Epoch 6/20\n",
      "49/49 - 14s - loss: 0.2799 - acc: 0.9170 - val_loss: 0.4135 - val_acc: 0.8303\n",
      "Epoch 7/20\n",
      "49/49 - 13s - loss: 0.2449 - acc: 0.9334 - val_loss: 0.4030 - val_acc: 0.8386\n",
      "Epoch 8/20\n",
      "49/49 - 13s - loss: 0.2289 - acc: 0.9600 - val_loss: 0.4113 - val_acc: 0.8506\n",
      "Epoch 9/20\n",
      "49/49 - 13s - loss: 0.2113 - acc: 0.9693 - val_loss: 0.4011 - val_acc: 0.8432\n",
      "Epoch 10/20\n",
      "49/49 - 13s - loss: 0.1828 - acc: 0.9631 - val_loss: 0.4146 - val_acc: 0.8423\n",
      "Epoch 11/20\n",
      "49/49 - 13s - loss: 0.1638 - acc: 0.9754 - val_loss: 0.4072 - val_acc: 0.8496\n",
      "Epoch 12/20\n",
      "49/49 - 12s - loss: 0.1537 - acc: 0.9754 - val_loss: 0.4087 - val_acc: 0.8423\n",
      "Epoch 13/20\n",
      "49/49 - 13s - loss: 0.1395 - acc: 0.9785 - val_loss: 0.3993 - val_acc: 0.8496\n",
      "Epoch 14/20\n",
      "49/49 - 12s - loss: 0.1305 - acc: 0.9898 - val_loss: 0.4260 - val_acc: 0.8469\n",
      "Epoch 15/20\n",
      "49/49 - 12s - loss: 0.1194 - acc: 0.9887 - val_loss: 0.4468 - val_acc: 0.8478\n",
      "Epoch 16/20\n",
      "49/49 - 12s - loss: 0.1116 - acc: 0.9877 - val_loss: 0.4409 - val_acc: 0.8349\n",
      "Epoch 17/20\n",
      "49/49 - 13s - loss: 0.1082 - acc: 0.9939 - val_loss: 0.4176 - val_acc: 0.8376\n",
      "Epoch 18/20\n",
      "49/49 - 13s - loss: 0.1046 - acc: 0.9898 - val_loss: 0.4540 - val_acc: 0.8423\n",
      "Epoch 19/20\n",
      "49/49 - 13s - loss: 0.0943 - acc: 0.9928 - val_loss: 0.4705 - val_acc: 0.8376\n",
      "Epoch 20/20\n",
      "49/49 - 13s - loss: 0.0879 - acc: 0.9939 - val_loss: 0.4737 - val_acc: 0.8506\n",
      "49/49 [==============================] - 5s 102ms/step - loss: 0.0434 - acc: 0.9959\n",
      "55/55 [==============================] - 6s 101ms/step - loss: 0.4555 - acc: 0.8450 2s - loss:\n",
      "link_classification: using 'ip' method to combine node embeddings into edge embeddings\n",
      "49/49 [==============================] - 5s 101ms/step - loss: 0.5863 - acc: 0.7049\n",
      "55/55 [==============================] - 6s 104ms/step - loss: 0.5805 - acc: 0.7122\n",
      "\tloss: 0.5863\n",
      "\tacc: 0.7049\n",
      "\tloss: 0.5805\n",
      "\tacc: 0.7122\n",
      "Epoch 1/20\n",
      "49/49 - 13s - loss: 0.6128 - acc: 0.6639 - val_loss: 0.5193 - val_acc: 0.7196\n",
      "Epoch 2/20\n",
      "49/49 - 13s - loss: 0.4375 - acc: 0.8473 - val_loss: 0.4538 - val_acc: 0.8109\n",
      "Epoch 3/20\n",
      "49/49 - 13s - loss: 0.3053 - acc: 0.9027 - val_loss: 0.4260 - val_acc: 0.8404\n",
      "Epoch 4/20\n",
      "49/49 - 13s - loss: 0.2171 - acc: 0.9375 - val_loss: 0.4483 - val_acc: 0.8395\n",
      "Epoch 5/20\n",
      "49/49 - 13s - loss: 0.1777 - acc: 0.9549 - val_loss: 0.4654 - val_acc: 0.8395\n",
      "Epoch 6/20\n",
      "49/49 - 14s - loss: 0.1315 - acc: 0.9744 - val_loss: 0.4868 - val_acc: 0.8321\n",
      "Epoch 7/20\n",
      "49/49 - 13s - loss: 0.1058 - acc: 0.9846 - val_loss: 0.5496 - val_acc: 0.8358\n",
      "Epoch 8/20\n",
      "49/49 - 13s - loss: 0.0908 - acc: 0.9877 - val_loss: 0.6477 - val_acc: 0.8164\n",
      "Epoch 9/20\n",
      "49/49 - 13s - loss: 0.0741 - acc: 0.9918 - val_loss: 0.6558 - val_acc: 0.8330\n",
      "Epoch 10/20\n",
      "49/49 - 13s - loss: 0.0636 - acc: 0.9908 - val_loss: 0.6715 - val_acc: 0.8321\n",
      "Epoch 11/20\n",
      "49/49 - 13s - loss: 0.0561 - acc: 0.9918 - val_loss: 0.8107 - val_acc: 0.8164\n",
      "Epoch 12/20\n",
      "49/49 - 13s - loss: 0.0563 - acc: 0.9908 - val_loss: 0.6636 - val_acc: 0.8229\n",
      "Epoch 13/20\n",
      "49/49 - 13s - loss: 0.0651 - acc: 0.9908 - val_loss: 0.7857 - val_acc: 0.8210\n",
      "Epoch 14/20\n",
      "49/49 - 12s - loss: 0.0411 - acc: 0.9969 - val_loss: 0.7916 - val_acc: 0.8201\n",
      "Epoch 15/20\n",
      "49/49 - 12s - loss: 0.0399 - acc: 0.9969 - val_loss: 0.8129 - val_acc: 0.8303\n",
      "Epoch 16/20\n",
      "49/49 - 12s - loss: 0.0384 - acc: 0.9969 - val_loss: 0.8045 - val_acc: 0.8118\n",
      "Epoch 17/20\n",
      "49/49 - 12s - loss: 0.0324 - acc: 0.9990 - val_loss: 0.6784 - val_acc: 0.8137\n",
      "Epoch 18/20\n",
      "49/49 - 12s - loss: 0.0317 - acc: 0.9990 - val_loss: 0.7450 - val_acc: 0.8100\n",
      "Epoch 19/20\n",
      "49/49 - 13s - loss: 0.0282 - acc: 1.0000 - val_loss: 0.8143 - val_acc: 0.8035\n",
      "Epoch 20/20\n",
      "49/49 - 13s - loss: 0.0279 - acc: 0.9980 - val_loss: 0.7591 - val_acc: 0.8081\n",
      "49/49 [==============================] - 5s 100ms/step - loss: 0.0189 - acc: 1.0000\n",
      "55/55 [==============================] - 5s 100ms/step - loss: 0.7722 - acc: 0.8137\n",
      "link_classification: using 'ip' method to combine node embeddings into edge embeddings\n",
      "49/49 [==============================] - 5s 101ms/step - loss: 0.5862 - acc: 0.6988\n",
      "55/55 [==============================] - 5s 100ms/step - loss: 0.5860 - acc: 0.6974\n",
      "\tloss: 0.5862\n",
      "\tacc: 0.6988\n",
      "\tloss: 0.5860\n",
      "\tacc: 0.6974\n",
      "Epoch 1/20\n",
      "49/49 - 13s - loss: 0.6256 - acc: 0.6475 - val_loss: 0.4464 - val_acc: 0.8118\n",
      "Epoch 2/20\n",
      "49/49 - 13s - loss: 0.4322 - acc: 0.8268 - val_loss: 0.3918 - val_acc: 0.8173\n",
      "Epoch 3/20\n",
      "49/49 - 13s - loss: 0.2777 - acc: 0.9191 - val_loss: 0.4653 - val_acc: 0.8496\n",
      "Epoch 4/20\n",
      "49/49 - 12s - loss: 0.2104 - acc: 0.9406 - val_loss: 0.3825 - val_acc: 0.8266\n",
      "Epoch 5/20\n",
      "49/49 - 13s - loss: 0.1778 - acc: 0.9477 - val_loss: 0.4985 - val_acc: 0.8478\n",
      "Epoch 6/20\n",
      "49/49 - 13s - loss: 0.1357 - acc: 0.9754 - val_loss: 0.4493 - val_acc: 0.8524\n",
      "Epoch 7/20\n",
      "49/49 - 13s - loss: 0.1200 - acc: 0.9836 - val_loss: 0.4631 - val_acc: 0.8607\n",
      "Epoch 8/20\n",
      "49/49 - 13s - loss: 0.1222 - acc: 0.9846 - val_loss: 0.5406 - val_acc: 0.8542\n",
      "Epoch 9/20\n",
      "49/49 - 13s - loss: 0.0909 - acc: 0.9857 - val_loss: 0.6122 - val_acc: 0.8579\n",
      "Epoch 10/20\n",
      "49/49 - 13s - loss: 0.0889 - acc: 0.9877 - val_loss: 0.5517 - val_acc: 0.8450\n",
      "Epoch 11/20\n",
      "49/49 - 12s - loss: 0.0752 - acc: 0.9898 - val_loss: 0.6099 - val_acc: 0.8487\n",
      "Epoch 12/20\n",
      "49/49 - 13s - loss: 0.0674 - acc: 0.9939 - val_loss: 0.5488 - val_acc: 0.8524\n",
      "Epoch 13/20\n",
      "49/49 - 13s - loss: 0.0601 - acc: 0.9959 - val_loss: 0.5949 - val_acc: 0.8450\n",
      "Epoch 14/20\n",
      "49/49 - 13s - loss: 0.0649 - acc: 0.9959 - val_loss: 0.6726 - val_acc: 0.8423\n",
      "Epoch 15/20\n",
      "49/49 - 13s - loss: 0.0574 - acc: 0.9959 - val_loss: 0.6882 - val_acc: 0.8469\n",
      "Epoch 16/20\n",
      "49/49 - 13s - loss: 0.0529 - acc: 0.9969 - val_loss: 0.6174 - val_acc: 0.8367\n",
      "Epoch 17/20\n",
      "49/49 - 13s - loss: 0.0527 - acc: 0.9959 - val_loss: 0.6792 - val_acc: 0.8450\n",
      "Epoch 18/20\n",
      "49/49 - 13s - loss: 0.0470 - acc: 0.9980 - val_loss: 0.7393 - val_acc: 0.8413\n",
      "Epoch 19/20\n",
      "49/49 - 13s - loss: 0.0485 - acc: 0.9980 - val_loss: 0.6565 - val_acc: 0.8330\n",
      "Epoch 20/20\n",
      "49/49 - 13s - loss: 0.0424 - acc: 0.9980 - val_loss: 0.6670 - val_acc: 0.8450\n",
      "49/49 [==============================] - 5s 101ms/step - loss: 0.0343 - acc: 0.9980\n",
      "55/55 [==============================] - 6s 110ms/step - loss: 0.6667 - acc: 0.8349\n",
      "link_classification: using 'ip' method to combine node embeddings into edge embeddings\n",
      "49/49 [==============================] - 5s 103ms/step - loss: 0.5895 - acc: 0.6998\n",
      "55/55 [==============================] - 6s 104ms/step - loss: 0.5935 - acc: 0.7048\n",
      "\tloss: 0.5895\n",
      "\tacc: 0.6998\n",
      "\tloss: 0.5935\n",
      "\tacc: 0.7048\n",
      "Epoch 1/20\n",
      "49/49 - 13s - loss: 0.6098 - acc: 0.6926 - val_loss: 0.5238 - val_acc: 0.6956\n",
      "Epoch 2/20\n",
      "49/49 - 13s - loss: 0.4651 - acc: 0.8299 - val_loss: 0.3606 - val_acc: 0.8376\n",
      "Epoch 3/20\n",
      "49/49 - 13s - loss: 0.2951 - acc: 0.8842 - val_loss: 0.4016 - val_acc: 0.8275\n",
      "Epoch 4/20\n",
      "49/49 - 13s - loss: 0.2212 - acc: 0.9314 - val_loss: 0.4346 - val_acc: 0.8524\n",
      "Epoch 5/20\n",
      "49/49 - 13s - loss: 0.1710 - acc: 0.9590 - val_loss: 0.3913 - val_acc: 0.8515\n",
      "Epoch 6/20\n",
      "49/49 - 13s - loss: 0.1356 - acc: 0.9672 - val_loss: 0.4500 - val_acc: 0.8450\n",
      "Epoch 7/20\n",
      "49/49 - 14s - loss: 0.1087 - acc: 0.9795 - val_loss: 0.4714 - val_acc: 0.8487\n",
      "Epoch 8/20\n",
      "49/49 - 14s - loss: 0.0915 - acc: 0.9877 - val_loss: 0.5247 - val_acc: 0.8339\n",
      "Epoch 9/20\n",
      "49/49 - 14s - loss: 0.0769 - acc: 0.9898 - val_loss: 0.5347 - val_acc: 0.8367\n",
      "Epoch 10/20\n",
      "49/49 - 13s - loss: 0.0632 - acc: 0.9939 - val_loss: 0.5736 - val_acc: 0.8339\n",
      "Epoch 11/20\n",
      "49/49 - 14s - loss: 0.0581 - acc: 0.9918 - val_loss: 0.5008 - val_acc: 0.8450\n",
      "Epoch 12/20\n",
      "49/49 - 13s - loss: 0.0519 - acc: 0.9949 - val_loss: 0.6489 - val_acc: 0.8367\n"
     ]
    },
    {
     "name": "stdout",
     "output_type": "stream",
     "text": [
      "Epoch 13/20\n",
      "49/49 - 13s - loss: 0.0456 - acc: 0.9980 - val_loss: 0.6457 - val_acc: 0.8275\n",
      "Epoch 14/20\n",
      "49/49 - 13s - loss: 0.0430 - acc: 0.9969 - val_loss: 0.5898 - val_acc: 0.8395\n",
      "Epoch 15/20\n",
      "49/49 - 13s - loss: 0.0394 - acc: 0.9990 - val_loss: 0.6185 - val_acc: 0.8367\n",
      "Epoch 16/20\n",
      "49/49 - 13s - loss: 0.0361 - acc: 0.9969 - val_loss: 0.6111 - val_acc: 0.8284\n",
      "Epoch 17/20\n",
      "49/49 - 13s - loss: 0.0326 - acc: 0.9980 - val_loss: 0.6418 - val_acc: 0.8220\n",
      "Epoch 18/20\n",
      "49/49 - 13s - loss: 0.0340 - acc: 0.9990 - val_loss: 0.6522 - val_acc: 0.8312\n",
      "Epoch 19/20\n",
      "49/49 - 13s - loss: 0.0338 - acc: 0.9980 - val_loss: 0.6617 - val_acc: 0.8284\n",
      "Epoch 20/20\n",
      "49/49 - 13s - loss: 0.0315 - acc: 0.9990 - val_loss: 0.6734 - val_acc: 0.8220\n",
      "49/49 [==============================] - 5s 102ms/step - loss: 0.0195 - acc: 1.0000\n",
      "55/55 [==============================] - 6s 101ms/step - loss: 0.6312 - acc: 0.8312\n",
      "link_classification: using 'ip' method to combine node embeddings into edge embeddings\n",
      "49/49 [==============================] - 5s 102ms/step - loss: 0.5997 - acc: 0.6742\n",
      "55/55 [==============================] - 6s 101ms/step - loss: 0.5851 - acc: 0.7122\n",
      "\tloss: 0.5997\n",
      "\tacc: 0.6742\n",
      "\tloss: 0.5851\n",
      "\tacc: 0.7122\n",
      "Epoch 1/20\n",
      "49/49 - 14s - loss: 0.6910 - acc: 0.5686 - val_loss: 0.6685 - val_acc: 0.5747\n",
      "Epoch 2/20\n",
      "49/49 - 13s - loss: 0.5762 - acc: 0.7367 - val_loss: 0.5083 - val_acc: 0.7509\n",
      "Epoch 3/20\n",
      "49/49 - 13s - loss: 0.4196 - acc: 0.8186 - val_loss: 0.4611 - val_acc: 0.7934\n",
      "Epoch 4/20\n",
      "49/49 - 13s - loss: 0.3331 - acc: 0.8781 - val_loss: 0.4798 - val_acc: 0.8146\n",
      "Epoch 5/20\n",
      "49/49 - 13s - loss: 0.2957 - acc: 0.8996 - val_loss: 0.4715 - val_acc: 0.8146\n",
      "Epoch 6/20\n",
      "49/49 - 13s - loss: 0.2360 - acc: 0.9324 - val_loss: 0.4576 - val_acc: 0.8127\n",
      "Epoch 7/20\n",
      "49/49 - 13s - loss: 0.2157 - acc: 0.9477 - val_loss: 0.5245 - val_acc: 0.8349\n",
      "Epoch 8/20\n",
      "49/49 - 13s - loss: 0.1970 - acc: 0.9570 - val_loss: 0.5330 - val_acc: 0.8173\n",
      "Epoch 9/20\n",
      "49/49 - 13s - loss: 0.1779 - acc: 0.9672 - val_loss: 0.5347 - val_acc: 0.8063\n",
      "Epoch 10/20\n",
      "49/49 - 13s - loss: 0.1531 - acc: 0.9795 - val_loss: 0.5385 - val_acc: 0.8210\n",
      "Epoch 11/20\n",
      "49/49 - 13s - loss: 0.1449 - acc: 0.9693 - val_loss: 0.6203 - val_acc: 0.8183\n",
      "Epoch 12/20\n",
      "49/49 - 13s - loss: 0.1373 - acc: 0.9734 - val_loss: 0.6275 - val_acc: 0.8035\n",
      "Epoch 13/20\n",
      "49/49 - 13s - loss: 0.1217 - acc: 0.9867 - val_loss: 0.5872 - val_acc: 0.8155\n",
      "Epoch 14/20\n",
      "49/49 - 13s - loss: 0.1154 - acc: 0.9846 - val_loss: 0.6399 - val_acc: 0.8118\n",
      "Epoch 15/20\n",
      "49/49 - 13s - loss: 0.1045 - acc: 0.9939 - val_loss: 0.6293 - val_acc: 0.8137\n",
      "Epoch 16/20\n",
      "49/49 - 13s - loss: 0.0999 - acc: 0.9898 - val_loss: 0.6324 - val_acc: 0.7998\n",
      "Epoch 17/20\n",
      "49/49 - 13s - loss: 0.0931 - acc: 0.9918 - val_loss: 0.7247 - val_acc: 0.7998\n",
      "Epoch 18/20\n",
      "49/49 - 13s - loss: 0.0935 - acc: 0.9898 - val_loss: 0.6902 - val_acc: 0.8072\n",
      "Epoch 19/20\n",
      "49/49 - 13s - loss: 0.0850 - acc: 0.9959 - val_loss: 0.7181 - val_acc: 0.8007\n",
      "Epoch 20/20\n",
      "49/49 - 13s - loss: 0.0824 - acc: 0.9939 - val_loss: 0.6675 - val_acc: 0.7934\n",
      "49/49 [==============================] - 5s 103ms/step - loss: 0.0514 - acc: 0.9980\n",
      "55/55 [==============================] - 6s 102ms/step - loss: 0.6686 - acc: 0.7952\n",
      "link_classification: using 'ip' method to combine node embeddings into edge embeddings\n",
      "49/49 [==============================] - 5s 103ms/step - loss: 0.5846 - acc: 0.7152\n",
      "55/55 [==============================] - 6s 105ms/step - loss: 0.5833 - acc: 0.6956\n",
      "\tloss: 0.5846\n",
      "\tacc: 0.7152\n",
      "\tloss: 0.5833\n",
      "\tacc: 0.6956\n",
      "Epoch 1/20\n",
      "49/49 - 14s - loss: 0.6664 - acc: 0.6137 - val_loss: 0.5083 - val_acc: 0.7389\n",
      "Epoch 2/20\n",
      "49/49 - 14s - loss: 0.4833 - acc: 0.7746 - val_loss: 0.4775 - val_acc: 0.7980\n",
      "Epoch 3/20\n",
      "49/49 - 14s - loss: 0.3956 - acc: 0.8648 - val_loss: 0.4736 - val_acc: 0.8349\n",
      "Epoch 4/20\n",
      "49/49 - 15s - loss: 0.2791 - acc: 0.9098 - val_loss: 0.4805 - val_acc: 0.8330\n",
      "Epoch 5/20\n",
      "49/49 - 14s - loss: 0.2584 - acc: 0.9355 - val_loss: 0.4886 - val_acc: 0.8330\n",
      "Epoch 6/20\n",
      "49/49 - 13s - loss: 0.1904 - acc: 0.9488 - val_loss: 0.4644 - val_acc: 0.8349\n",
      "Epoch 7/20\n",
      "49/49 - 13s - loss: 0.1381 - acc: 0.9672 - val_loss: 0.4740 - val_acc: 0.8349\n",
      "Epoch 8/20\n",
      "49/49 - 14s - loss: 0.1070 - acc: 0.9795 - val_loss: 0.5038 - val_acc: 0.8339\n",
      "Epoch 9/20\n",
      "49/49 - 13s - loss: 0.0919 - acc: 0.9846 - val_loss: 0.4935 - val_acc: 0.8339\n",
      "Epoch 10/20\n",
      "49/49 - 13s - loss: 0.0821 - acc: 0.9877 - val_loss: 0.4774 - val_acc: 0.8339\n",
      "Epoch 11/20\n",
      "49/49 - 13s - loss: 0.0729 - acc: 0.9918 - val_loss: 0.5275 - val_acc: 0.8229\n",
      "Epoch 12/20\n",
      "49/49 - 13s - loss: 0.0661 - acc: 0.9918 - val_loss: 0.5116 - val_acc: 0.8349\n",
      "Epoch 13/20\n",
      "49/49 - 13s - loss: 0.0551 - acc: 0.9949 - val_loss: 0.5100 - val_acc: 0.8275\n",
      "Epoch 14/20\n",
      "49/49 - 13s - loss: 0.0494 - acc: 0.9949 - val_loss: 0.5443 - val_acc: 0.8284\n",
      "Epoch 15/20\n",
      "49/49 - 13s - loss: 0.0465 - acc: 0.9980 - val_loss: 0.5429 - val_acc: 0.8229\n",
      "Epoch 16/20\n",
      "49/49 - 13s - loss: 0.0434 - acc: 0.9980 - val_loss: 0.4941 - val_acc: 0.8247\n",
      "Epoch 17/20\n",
      "49/49 - 14s - loss: 0.0409 - acc: 0.9959 - val_loss: 0.5176 - val_acc: 0.8183\n",
      "Epoch 18/20\n",
      "49/49 - 14s - loss: 0.0336 - acc: 0.9980 - val_loss: 0.6416 - val_acc: 0.8164\n",
      "Epoch 19/20\n",
      "49/49 - 13s - loss: 0.0344 - acc: 0.9990 - val_loss: 0.5614 - val_acc: 0.8238\n",
      "Epoch 20/20\n",
      "49/49 - 13s - loss: 0.0353 - acc: 0.9980 - val_loss: 0.5800 - val_acc: 0.8339\n",
      "49/49 [==============================] - 5s 104ms/step - loss: 0.0226 - acc: 1.0000\n",
      "55/55 [==============================] - 6s 101ms/step - loss: 0.6262 - acc: 0.8210 2s - loss\n",
      "link_classification: using 'ip' method to combine node embeddings into edge embeddings\n",
      "49/49 [==============================] - 5s 109ms/step - loss: 0.5957 - acc: 0.6988\n",
      "55/55 [==============================] - 6s 101ms/step - loss: 0.5709 - acc: 0.7057\n",
      "\tloss: 0.5957\n",
      "\tacc: 0.6988\n",
      "\tloss: 0.5709\n",
      "\tacc: 0.7057\n",
      "Epoch 1/20\n",
      "49/49 - 15s - loss: 0.6514 - acc: 0.6414 - val_loss: 0.4828 - val_acc: 0.7869\n",
      "Epoch 2/20\n",
      "49/49 - 14s - loss: 0.4567 - acc: 0.8299 - val_loss: 0.4719 - val_acc: 0.8321\n",
      "Epoch 3/20\n",
      "49/49 - 14s - loss: 0.3179 - acc: 0.9027 - val_loss: 0.4918 - val_acc: 0.8404\n",
      "Epoch 4/20\n",
      "49/49 - 14s - loss: 0.2507 - acc: 0.9293 - val_loss: 0.5597 - val_acc: 0.8552\n",
      "Epoch 5/20\n",
      "49/49 - 14s - loss: 0.2105 - acc: 0.9559 - val_loss: 0.5281 - val_acc: 0.8524\n",
      "Epoch 6/20\n",
      "49/49 - 14s - loss: 0.1536 - acc: 0.9641 - val_loss: 0.5111 - val_acc: 0.7989\n",
      "Epoch 7/20\n",
      "49/49 - 14s - loss: 0.1511 - acc: 0.9693 - val_loss: 0.4771 - val_acc: 0.8072\n",
      "Epoch 8/20\n",
      "49/49 - 14s - loss: 0.1210 - acc: 0.9805 - val_loss: 0.5700 - val_acc: 0.8459\n",
      "Epoch 9/20\n",
      "49/49 - 14s - loss: 0.0943 - acc: 0.9877 - val_loss: 0.5585 - val_acc: 0.8395\n",
      "Epoch 10/20\n",
      "49/49 - 14s - loss: 0.0875 - acc: 0.9846 - val_loss: 0.5878 - val_acc: 0.8487\n",
      "Epoch 11/20\n",
      "49/49 - 14s - loss: 0.0715 - acc: 0.9980 - val_loss: 0.5597 - val_acc: 0.8441\n",
      "Epoch 12/20\n",
      "49/49 - 14s - loss: 0.0690 - acc: 0.9908 - val_loss: 0.5790 - val_acc: 0.8339\n",
      "Epoch 13/20\n",
      "49/49 - 14s - loss: 0.0632 - acc: 0.9959 - val_loss: 0.6093 - val_acc: 0.8303\n",
      "Epoch 14/20\n",
      "49/49 - 14s - loss: 0.0593 - acc: 0.9939 - val_loss: 0.6328 - val_acc: 0.8395\n",
      "Epoch 15/20\n",
      "49/49 - 13s - loss: 0.0546 - acc: 0.9959 - val_loss: 0.6336 - val_acc: 0.8293\n",
      "Epoch 16/20\n",
      "49/49 - 13s - loss: 0.0518 - acc: 0.9980 - val_loss: 0.7148 - val_acc: 0.8266\n",
      "Epoch 17/20\n",
      "49/49 - 13s - loss: 0.0513 - acc: 0.9980 - val_loss: 0.6438 - val_acc: 0.8238\n",
      "Epoch 18/20\n",
      "49/49 - 14s - loss: 0.0477 - acc: 0.9990 - val_loss: 0.6948 - val_acc: 0.8275\n",
      "Epoch 19/20\n",
      "49/49 - 14s - loss: 0.0448 - acc: 0.9980 - val_loss: 0.6261 - val_acc: 0.8321\n",
      "Epoch 20/20\n",
      "49/49 - 14s - loss: 0.0453 - acc: 0.9990 - val_loss: 0.7076 - val_acc: 0.8247\n",
      "49/49 [==============================] - 5s 101ms/step - loss: 0.0342 - acc: 0.9990\n",
      "55/55 [==============================] - 6s 101ms/step - loss: 0.6924 - acc: 0.8303\n",
      "link_classification: using 'ip' method to combine node embeddings into edge embeddings\n",
      "49/49 [==============================] - 5s 103ms/step - loss: 0.6100 - acc: 0.6660\n",
      "55/55 [==============================] - 6s 102ms/step - loss: 0.6065 - acc: 0.6845\n",
      "\tloss: 0.6100\n",
      "\tacc: 0.6660\n",
      "\tloss: 0.6065\n",
      "\tacc: 0.6845\n",
      "Epoch 1/20\n",
      "49/49 - 14s - loss: 0.6119 - acc: 0.6660 - val_loss: 0.4748 - val_acc: 0.8007\n",
      "Epoch 2/20\n",
      "49/49 - 14s - loss: 0.6700 - acc: 0.6393 - val_loss: 0.7780 - val_acc: 0.5535\n",
      "Epoch 3/20\n"
     ]
    },
    {
     "name": "stdout",
     "output_type": "stream",
     "text": [
      "49/49 - 14s - loss: 0.4670 - acc: 0.7623 - val_loss: 0.5117 - val_acc: 0.7565\n",
      "Epoch 4/20\n",
      "49/49 - 14s - loss: 0.3581 - acc: 0.8730 - val_loss: 0.4573 - val_acc: 0.8155\n",
      "Epoch 5/20\n",
      "49/49 - 15s - loss: 0.3057 - acc: 0.9068 - val_loss: 0.4113 - val_acc: 0.8339\n",
      "Epoch 6/20\n",
      "49/49 - 14s - loss: 0.2602 - acc: 0.9180 - val_loss: 0.4490 - val_acc: 0.8321\n",
      "Epoch 7/20\n",
      "49/49 - 15s - loss: 0.2342 - acc: 0.9416 - val_loss: 0.4397 - val_acc: 0.8330\n",
      "Epoch 8/20\n",
      "49/49 - 14s - loss: 0.2048 - acc: 0.9539 - val_loss: 0.4539 - val_acc: 0.8349\n",
      "Epoch 9/20\n",
      "49/49 - 14s - loss: 0.1736 - acc: 0.9539 - val_loss: 0.4555 - val_acc: 0.8376\n",
      "Epoch 10/20\n",
      "49/49 - 14s - loss: 0.1542 - acc: 0.9641 - val_loss: 0.4595 - val_acc: 0.8321\n",
      "Epoch 11/20\n",
      "49/49 - 15s - loss: 0.1419 - acc: 0.9703 - val_loss: 0.4577 - val_acc: 0.8220\n",
      "Epoch 12/20\n",
      "49/49 - 14s - loss: 0.1313 - acc: 0.9703 - val_loss: 0.4605 - val_acc: 0.8266\n",
      "Epoch 13/20\n",
      "49/49 - 14s - loss: 0.1108 - acc: 0.9836 - val_loss: 0.4986 - val_acc: 0.8229\n",
      "Epoch 14/20\n",
      "49/49 - 14s - loss: 0.1024 - acc: 0.9887 - val_loss: 0.5216 - val_acc: 0.8247\n",
      "Epoch 15/20\n",
      "49/49 - 14s - loss: 0.0985 - acc: 0.9816 - val_loss: 0.4645 - val_acc: 0.8137\n",
      "Epoch 16/20\n",
      "49/49 - 14s - loss: 0.0861 - acc: 0.9898 - val_loss: 0.5027 - val_acc: 0.8192\n",
      "Epoch 17/20\n",
      "49/49 - 14s - loss: 0.0853 - acc: 0.9867 - val_loss: 0.5329 - val_acc: 0.8164\n",
      "Epoch 18/20\n",
      "49/49 - 14s - loss: 0.0776 - acc: 0.9918 - val_loss: 0.5862 - val_acc: 0.8183\n",
      "Epoch 19/20\n",
      "49/49 - 14s - loss: 0.0739 - acc: 0.9898 - val_loss: 0.4855 - val_acc: 0.8210\n",
      "Epoch 20/20\n",
      "49/49 - 14s - loss: 0.0695 - acc: 0.9939 - val_loss: 0.5453 - val_acc: 0.8201\n",
      "49/49 [==============================] - 5s 103ms/step - loss: 0.0397 - acc: 0.9969 1s - loss: 0.0384\n",
      "55/55 [==============================] - 6s 103ms/step - loss: 0.6002 - acc: 0.8229\n",
      "link_classification: using 'ip' method to combine node embeddings into edge embeddings\n",
      "49/49 [==============================] - 5s 102ms/step - loss: 0.5868 - acc: 0.6691\n",
      "55/55 [==============================] - 6s 104ms/step - loss: 0.5860 - acc: 0.6827\n",
      "\tloss: 0.5868\n",
      "\tacc: 0.6691\n",
      "\tloss: 0.5860\n",
      "\tacc: 0.6827\n",
      "Epoch 1/20\n",
      "49/49 - 14s - loss: 0.6201 - acc: 0.6680 - val_loss: 0.4372 - val_acc: 0.7878\n",
      "Epoch 2/20\n",
      "49/49 - 14s - loss: 0.4482 - acc: 0.8391 - val_loss: 0.4688 - val_acc: 0.8026\n",
      "Epoch 3/20\n",
      "49/49 - 14s - loss: 0.3029 - acc: 0.9057 - val_loss: 0.4141 - val_acc: 0.8423\n",
      "Epoch 4/20\n",
      "49/49 - 15s - loss: 0.2394 - acc: 0.9242 - val_loss: 0.4459 - val_acc: 0.8533\n",
      "Epoch 5/20\n",
      "49/49 - 15s - loss: 0.1582 - acc: 0.9662 - val_loss: 0.5517 - val_acc: 0.8570\n",
      "Epoch 6/20\n",
      "49/49 - 14s - loss: 0.1274 - acc: 0.9744 - val_loss: 0.5210 - val_acc: 0.8496\n",
      "Epoch 7/20\n",
      "49/49 - 14s - loss: 0.1080 - acc: 0.9775 - val_loss: 0.5644 - val_acc: 0.8515\n",
      "Epoch 8/20\n",
      "49/49 - 14s - loss: 0.0846 - acc: 0.9867 - val_loss: 0.5801 - val_acc: 0.8459\n",
      "Epoch 9/20\n",
      "49/49 - 15s - loss: 0.0888 - acc: 0.9846 - val_loss: 0.6134 - val_acc: 0.8441\n",
      "Epoch 10/20\n",
      "49/49 - 15s - loss: 0.0657 - acc: 0.9918 - val_loss: 0.6795 - val_acc: 0.8395\n",
      "Epoch 11/20\n",
      "49/49 - 15s - loss: 0.0544 - acc: 0.9969 - val_loss: 0.6577 - val_acc: 0.8441\n",
      "Epoch 12/20\n",
      "49/49 - 15s - loss: 0.0523 - acc: 0.9928 - val_loss: 0.6394 - val_acc: 0.8321\n",
      "Epoch 13/20\n",
      "49/49 - 14s - loss: 0.0551 - acc: 0.9918 - val_loss: 0.6592 - val_acc: 0.8293\n",
      "Epoch 14/20\n",
      "49/49 - 14s - loss: 0.0412 - acc: 0.9990 - val_loss: 0.6431 - val_acc: 0.8284\n",
      "Epoch 15/20\n",
      "49/49 - 14s - loss: 0.0424 - acc: 0.9969 - val_loss: 0.6742 - val_acc: 0.8312\n",
      "Epoch 16/20\n",
      "49/49 - 14s - loss: 0.0417 - acc: 0.9959 - val_loss: 0.6904 - val_acc: 0.8330\n",
      "Epoch 17/20\n",
      "49/49 - 14s - loss: 0.0353 - acc: 0.9990 - val_loss: 0.6860 - val_acc: 0.8173\n",
      "Epoch 18/20\n",
      "49/49 - 14s - loss: 0.0335 - acc: 0.9969 - val_loss: 0.6257 - val_acc: 0.8303\n",
      "Epoch 19/20\n",
      "49/49 - 14s - loss: 0.0310 - acc: 0.9969 - val_loss: 0.7683 - val_acc: 0.8229\n",
      "Epoch 20/20\n",
      "49/49 - 15s - loss: 0.0293 - acc: 0.9990 - val_loss: 0.7209 - val_acc: 0.8192\n",
      "49/49 [==============================] - 5s 102ms/step - loss: 0.0195 - acc: 1.0000\n",
      "55/55 [==============================] - 6s 100ms/step - loss: 0.7142 - acc: 0.8146\n"
     ]
    }
   ],
   "source": [
    "output = []\n",
    "for node_num in nodes:\n",
    "    output.append(GraphSAGE_case_study(node_num))"
   ]
  },
  {
   "cell_type": "code",
   "execution_count": 76,
   "metadata": {},
   "outputs": [],
   "source": [
    "train_loss = []\n",
    "train_acc = []\n",
    "test_loss = []\n",
    "test_acc = []\n",
    "for metrics in output:\n",
    "    train_loss.append(metrics[0][0])\n",
    "    train_acc.append(1/metrics[0][1])\n",
    "    test_loss.append(metrics[1][0])\n",
    "    test_acc.append(1/metrics[1][1])"
   ]
  },
  {
   "cell_type": "code",
   "execution_count": 77,
   "metadata": {},
   "outputs": [
    {
     "data": {
      "image/png": "[encoded data removed]",
      "text/plain": [
       "<Figure size 432x288 with 1 Axes>"
      ]
     },
     "metadata": {
      "needs_background": "light"
     },
     "output_type": "display_data"
    }
   ],
   "source": [
    "import matplotlib.pyplot as plt\n",
    "plt.plot(range(len(nodes)), train_loss, label = 'train')\n",
    "plt.plot(range(len(nodes)), test_loss, label = 'test')\n",
    "plt.axis()\n",
    "plt.xticks([i for i in range(len(nodes))], [i for i in nodes], rotation=30)\n",
    "plt.xlabel('Model parameters: nodes in the hidden layer')\n",
    "plt.ylabel('Binary cross-entropy loss')\n",
    "plt.title('GraphSAGE  for Cora')\n",
    "plt.legend();"
   ]
  },
  {
   "cell_type": "code",
   "execution_count": 80,
   "metadata": {},
   "outputs": [
    {
     "data": {
      "image/png": "[encoded data removed]",
      "text/plain": [
       "<Figure size 432x288 with 1 Axes>"
      ]
     },
     "metadata": {
      "needs_background": "light"
     },
     "output_type": "display_data"
    }
   ],
   "source": [
    "plt.plot(range(len(nodes)), train_acc, label = 'train')\n",
    "plt.plot(range(len(nodes)), test_acc, label = 'test')\n",
    "plt.axis()\n",
    "plt.xticks([i for i in range(len(nodes))], [i for i in nodes], rotation=30)\n",
    "plt.xlabel('Model parameters: nodes in the hidden layer')\n",
    "plt.ylabel('Zero-one loss (%)')\n",
    "plt.title('GraphSAGE  for Cora')\n",
    "plt.legend();"
   ]
  },
  {
   "cell_type": "code",
   "execution_count": 105,
   "metadata": {},
   "outputs": [
    {
     "data": {
      "text/plain": [
       "6832"
      ]
     },
     "execution_count": 105,
     "metadata": {},
     "output_type": "execute_result"
    }
   ],
   "source": [
    "n = 976 #data num\n",
    "d = 1433 #data col\n",
    "K = 7 #class\n",
    "H = (n-1)*K/(d+2)\n",
    "H\n",
    "n*K"
   ]
  },
  {
   "cell_type": "code",
   "execution_count": 33,
   "metadata": {},
   "outputs": [
    {
     "name": "stdout",
     "output_type": "stream",
     "text": [
      "link_classification: using 'ip' method to combine node embeddings into edge embeddings\n",
      "49/49 [==============================] - 5s 103ms/step - loss: 0.9765 - acc: 0.6414\n",
      "55/55 [==============================] - 5s 99ms/step - loss: 0.8945 - acc: 0.6633\n",
      "\tloss: 0.9765\n",
      "\tacc: 0.6414\n",
      "\tloss: 0.8945\n",
      "\tacc: 0.6633\n",
      "Epoch 1/20\n",
      "49/49 - 12s - loss: 0.8964 - acc: 0.5891 - val_loss: 0.7446 - val_acc: 0.5341\n",
      "Epoch 2/20\n",
      "49/49 - 12s - loss: 0.6680 - acc: 0.6178 - val_loss: 0.7182 - val_acc: 0.5507\n",
      "Epoch 3/20\n",
      "49/49 - 12s - loss: 0.5752 - acc: 0.7018 - val_loss: 0.6277 - val_acc: 0.6292\n",
      "Epoch 4/20\n",
      "49/49 - 13s - loss: 0.5030 - acc: 0.7654 - val_loss: 0.5720 - val_acc: 0.6836\n",
      "Epoch 5/20\n",
      "49/49 - 12s - loss: 0.4589 - acc: 0.8115 - val_loss: 0.5282 - val_acc: 0.7445\n",
      "Epoch 6/20\n",
      "49/49 - 12s - loss: 0.4129 - acc: 0.8361 - val_loss: 0.4967 - val_acc: 0.7528\n",
      "Epoch 7/20\n",
      "49/49 - 12s - loss: 0.3862 - acc: 0.8740 - val_loss: 0.4878 - val_acc: 0.7601\n",
      "Epoch 8/20\n",
      "49/49 - 12s - loss: 0.3530 - acc: 0.8996 - val_loss: 0.4888 - val_acc: 0.7592\n",
      "Epoch 9/20\n",
      "49/49 - 13s - loss: 0.3150 - acc: 0.9037 - val_loss: 0.4588 - val_acc: 0.7943\n",
      "Epoch 10/20\n",
      "49/49 - 12s - loss: 0.3039 - acc: 0.9109 - val_loss: 0.4520 - val_acc: 0.7906\n",
      "Epoch 11/20\n",
      "49/49 - 12s - loss: 0.2975 - acc: 0.9098 - val_loss: 0.4603 - val_acc: 0.8063\n",
      "Epoch 12/20\n",
      "49/49 - 12s - loss: 0.2738 - acc: 0.9283 - val_loss: 0.4537 - val_acc: 0.8026\n",
      "Epoch 13/20\n",
      "49/49 - 12s - loss: 0.2734 - acc: 0.9232 - val_loss: 0.4536 - val_acc: 0.7998\n",
      "Epoch 14/20\n",
      "49/49 - 13s - loss: 0.2418 - acc: 0.9477 - val_loss: 0.4570 - val_acc: 0.8017\n",
      "Epoch 15/20\n",
      "49/49 - 12s - loss: 0.2420 - acc: 0.9436 - val_loss: 0.4444 - val_acc: 0.7980\n",
      "Epoch 16/20\n",
      "49/49 - 13s - loss: 0.2316 - acc: 0.9508 - val_loss: 0.4566 - val_acc: 0.8118\n",
      "Epoch 17/20\n",
      "49/49 - 14s - loss: 0.2298 - acc: 0.9467 - val_loss: 0.4553 - val_acc: 0.8109\n",
      "Epoch 18/20\n",
      "49/49 - 14s - loss: 0.2162 - acc: 0.9600 - val_loss: 0.4628 - val_acc: 0.8063\n",
      "Epoch 19/20\n",
      "49/49 - 12s - loss: 0.2124 - acc: 0.9549 - val_loss: 0.4644 - val_acc: 0.8054\n",
      "Epoch 20/20\n",
      "49/49 - 13s - loss: 0.1993 - acc: 0.9734 - val_loss: 0.4655 - val_acc: 0.8063\n",
      "49/49 [==============================] - 5s 102ms/step - loss: 0.0864 - acc: 0.9928\n",
      "55/55 [==============================] - 6s 106ms/step - loss: 0.4824 - acc: 0.7989\n",
      "link_classification: using 'ip' method to combine node embeddings into edge embeddings\n",
      "49/49 [==============================] - 5s 102ms/step - loss: 0.5880 - acc: 0.6926\n",
      "55/55 [==============================] - 6s 100ms/step - loss: 0.6053 - acc: 0.6863\n",
      "\tloss: 0.5880\n",
      "\tacc: 0.6926\n",
      "\tloss: 0.6053\n",
      "\tacc: 0.6863\n",
      "Epoch 1/20\n",
      "49/49 - 12s - loss: 0.6151 - acc: 0.6680 - val_loss: 0.5312 - val_acc: 0.7389\n",
      "Epoch 2/20\n",
      "49/49 - 13s - loss: 0.4797 - acc: 0.8033 - val_loss: 0.4162 - val_acc: 0.8423\n",
      "Epoch 3/20\n",
      "49/49 - 13s - loss: 0.3714 - acc: 0.8566 - val_loss: 0.4027 - val_acc: 0.8598\n",
      "Epoch 4/20\n",
      "49/49 - 13s - loss: 0.3046 - acc: 0.9068 - val_loss: 0.3820 - val_acc: 0.8672\n",
      "Epoch 5/20\n",
      "49/49 - 12s - loss: 0.2679 - acc: 0.9139 - val_loss: 0.3809 - val_acc: 0.8718\n",
      "Epoch 6/20\n",
      "49/49 - 13s - loss: 0.2194 - acc: 0.9518 - val_loss: 0.3996 - val_acc: 0.8570\n",
      "Epoch 7/20\n",
      "49/49 - 12s - loss: 0.1966 - acc: 0.9621 - val_loss: 0.4039 - val_acc: 0.8598\n",
      "Epoch 8/20\n",
      "49/49 - 13s - loss: 0.1756 - acc: 0.9672 - val_loss: 0.4099 - val_acc: 0.8589\n",
      "Epoch 9/20\n",
      "49/49 - 12s - loss: 0.1547 - acc: 0.9744 - val_loss: 0.4030 - val_acc: 0.8579\n",
      "Epoch 10/20\n",
      "49/49 - 13s - loss: 0.1340 - acc: 0.9836 - val_loss: 0.4187 - val_acc: 0.8589\n",
      "Epoch 11/20\n",
      "49/49 - 13s - loss: 0.1189 - acc: 0.9826 - val_loss: 0.4335 - val_acc: 0.8496\n",
      "Epoch 12/20\n",
      "49/49 - 12s - loss: 0.1058 - acc: 0.9908 - val_loss: 0.5007 - val_acc: 0.8506\n",
      "Epoch 13/20\n",
      "49/49 - 13s - loss: 0.0954 - acc: 0.9918 - val_loss: 0.4351 - val_acc: 0.8552\n",
      "Epoch 14/20\n",
      "49/49 - 13s - loss: 0.0853 - acc: 0.9959 - val_loss: 0.5077 - val_acc: 0.8441\n",
      "Epoch 15/20\n",
      "49/49 - 13s - loss: 0.0748 - acc: 0.9939 - val_loss: 0.4771 - val_acc: 0.8506\n",
      "Epoch 16/20\n",
      "49/49 - 14s - loss: 0.0652 - acc: 0.9969 - val_loss: 0.5191 - val_acc: 0.8459\n",
      "Epoch 17/20\n",
      "49/49 - 14s - loss: 0.0589 - acc: 0.9980 - val_loss: 0.5867 - val_acc: 0.8432\n",
      "Epoch 18/20\n",
      "49/49 - 14s - loss: 0.0561 - acc: 0.9959 - val_loss: 0.5575 - val_acc: 0.8423\n",
      "Epoch 19/20\n",
      "49/49 - 14s - loss: 0.0549 - acc: 0.9949 - val_loss: 0.6129 - val_acc: 0.8487\n",
      "Epoch 20/20\n",
      "49/49 - 14s - loss: 0.0477 - acc: 0.9990 - val_loss: 0.5520 - val_acc: 0.8533\n",
      "49/49 [==============================] - 6s 113ms/step - loss: 0.0288 - acc: 0.9990\n",
      "55/55 [==============================] - 6s 101ms/step - loss: 0.5472 - acc: 0.8404\n",
      "link_classification: using 'ip' method to combine node embeddings into edge embeddings\n",
      "49/49 [==============================] - 5s 105ms/step - loss: 0.5588 - acc: 0.7305\n",
      "55/55 [==============================] - 6s 104ms/step - loss: 0.5714 - acc: 0.7205\n",
      "\tloss: 0.5588\n",
      "\tacc: 0.7305\n",
      "\tloss: 0.5714\n",
      "\tacc: 0.7205\n",
      "Epoch 1/20\n",
      "49/49 - 15s - loss: 0.5871 - acc: 0.7100 - val_loss: 0.4845 - val_acc: 0.7445\n",
      "Epoch 2/20\n",
      "49/49 - 14s - loss: 0.3917 - acc: 0.8545 - val_loss: 0.4119 - val_acc: 0.8459\n",
      "Epoch 3/20\n",
      "49/49 - 14s - loss: 0.2661 - acc: 0.9109 - val_loss: 0.4659 - val_acc: 0.8376\n",
      "Epoch 4/20\n",
      "49/49 - 14s - loss: 0.1962 - acc: 0.9457 - val_loss: 0.4303 - val_acc: 0.8459\n",
      "Epoch 5/20\n",
      "49/49 - 15s - loss: 0.1705 - acc: 0.9570 - val_loss: 0.5377 - val_acc: 0.8496\n",
      "Epoch 6/20\n",
      "49/49 - 14s - loss: 0.1231 - acc: 0.9754 - val_loss: 0.5610 - val_acc: 0.8321\n",
      "Epoch 7/20\n",
      "49/49 - 14s - loss: 0.1153 - acc: 0.9734 - val_loss: 0.5474 - val_acc: 0.7565\n",
      "Epoch 8/20\n",
      "49/49 - 14s - loss: 0.1139 - acc: 0.9734 - val_loss: 0.6701 - val_acc: 0.8367\n",
      "Epoch 9/20\n",
      "49/49 - 14s - loss: 0.0831 - acc: 0.9887 - val_loss: 0.7040 - val_acc: 0.8432\n",
      "Epoch 10/20\n",
      "49/49 - 14s - loss: 0.0748 - acc: 0.9918 - val_loss: 0.6275 - val_acc: 0.8413\n",
      "Epoch 11/20\n",
      "49/49 - 14s - loss: 0.0701 - acc: 0.9959 - val_loss: 0.6747 - val_acc: 0.8349\n",
      "Epoch 12/20\n",
      "49/49 - 14s - loss: 0.0633 - acc: 0.9949 - val_loss: 0.6674 - val_acc: 0.8376\n",
      "Epoch 13/20\n",
      "49/49 - 14s - loss: 0.0425 - acc: 0.9969 - val_loss: 0.6236 - val_acc: 0.8312\n",
      "Epoch 14/20\n",
      "49/49 - 14s - loss: 0.0393 - acc: 0.9959 - val_loss: 0.6620 - val_acc: 0.8293\n",
      "Epoch 15/20\n",
      "49/49 - 14s - loss: 0.0388 - acc: 0.9980 - val_loss: 0.6603 - val_acc: 0.8192\n",
      "Epoch 16/20\n",
      "49/49 - 14s - loss: 0.0340 - acc: 1.0000 - val_loss: 0.6699 - val_acc: 0.8220\n",
      "Epoch 17/20\n",
      "49/49 - 15s - loss: 0.0316 - acc: 1.0000 - val_loss: 0.7107 - val_acc: 0.8312\n",
      "Epoch 18/20\n",
      "49/49 - 14s - loss: 0.0348 - acc: 0.9969 - val_loss: 0.6946 - val_acc: 0.8321\n",
      "Epoch 19/20\n",
      "49/49 - 14s - loss: 0.0322 - acc: 0.9990 - val_loss: 0.6905 - val_acc: 0.8247\n",
      "Epoch 20/20\n",
      "49/49 - 14s - loss: 0.0357 - acc: 0.9969 - val_loss: 0.6531 - val_acc: 0.8256\n",
      "49/49 [==============================] - 5s 107ms/step - loss: 0.0191 - acc: 1.0000\n",
      "55/55 [==============================] - 6s 103ms/step - loss: 0.6804 - acc: 0.8210\n",
      "link_classification: using 'ip' method to combine node embeddings into edge embeddings\n",
      "49/49 [==============================] - 5s 103ms/step - loss: 0.6057 - acc: 0.6773\n",
      "55/55 [==============================] - 6s 101ms/step - loss: 0.5854 - acc: 0.7085\n",
      "\tloss: 0.6057\n",
      "\tacc: 0.6773\n",
      "\tloss: 0.5854\n",
      "\tacc: 0.7085\n",
      "Epoch 1/20\n",
      "49/49 - 14s - loss: 0.6207 - acc: 0.6270 - val_loss: 0.4671 - val_acc: 0.8100\n",
      "Epoch 2/20\n",
      "49/49 - 15s - loss: 0.4149 - acc: 0.8340 - val_loss: 0.4366 - val_acc: 0.8137\n",
      "Epoch 3/20\n",
      "49/49 - 15s - loss: 0.3261 - acc: 0.8904 - val_loss: 0.4165 - val_acc: 0.8561\n",
      "Epoch 4/20\n",
      "49/49 - 14s - loss: 0.2589 - acc: 0.9395 - val_loss: 0.5049 - val_acc: 0.8506\n",
      "Epoch 5/20\n",
      "49/49 - 14s - loss: 0.1722 - acc: 0.9580 - val_loss: 0.5587 - val_acc: 0.8321\n",
      "Epoch 6/20\n",
      "49/49 - 14s - loss: 0.1577 - acc: 0.9713 - val_loss: 0.5463 - val_acc: 0.8386\n",
      "Epoch 7/20\n",
      "49/49 - 14s - loss: 0.1163 - acc: 0.9672 - val_loss: 0.5193 - val_acc: 0.8173\n",
      "Epoch 8/20\n",
      "49/49 - 14s - loss: 0.0891 - acc: 0.9857 - val_loss: 0.4693 - val_acc: 0.8376\n",
      "Epoch 9/20\n",
      "49/49 - 14s - loss: 0.0790 - acc: 0.9877 - val_loss: 0.5500 - val_acc: 0.8413\n",
      "Epoch 10/20\n",
      "49/49 - 14s - loss: 0.0596 - acc: 0.9949 - val_loss: 0.5446 - val_acc: 0.8469\n",
      "Epoch 11/20\n",
      "49/49 - 14s - loss: 0.0531 - acc: 0.9949 - val_loss: 0.5413 - val_acc: 0.8515\n",
      "Epoch 12/20\n",
      "49/49 - 14s - loss: 0.0489 - acc: 1.0000 - val_loss: 0.5774 - val_acc: 0.8515\n",
      "Epoch 13/20\n"
     ]
    },
    {
     "name": "stdout",
     "output_type": "stream",
     "text": [
      "49/49 - 14s - loss: 0.0467 - acc: 0.9969 - val_loss: 0.6275 - val_acc: 0.8395\n",
      "Epoch 14/20\n",
      "49/49 - 14s - loss: 0.0440 - acc: 0.9969 - val_loss: 0.6670 - val_acc: 0.8358\n",
      "Epoch 15/20\n",
      "49/49 - 14s - loss: 0.0345 - acc: 1.0000 - val_loss: 0.6513 - val_acc: 0.8376\n",
      "Epoch 16/20\n",
      "49/49 - 14s - loss: 0.0382 - acc: 0.9980 - val_loss: 0.7802 - val_acc: 0.8376\n",
      "Epoch 17/20\n",
      "49/49 - 14s - loss: 0.0360 - acc: 0.9969 - val_loss: 0.6728 - val_acc: 0.8441\n",
      "Epoch 18/20\n",
      "49/49 - 15s - loss: 0.0344 - acc: 0.9969 - val_loss: 0.6059 - val_acc: 0.8330\n",
      "Epoch 19/20\n",
      "49/49 - 14s - loss: 0.0285 - acc: 1.0000 - val_loss: 0.6376 - val_acc: 0.8423\n",
      "Epoch 20/20\n",
      "49/49 - 14s - loss: 0.0306 - acc: 0.9959 - val_loss: 0.6031 - val_acc: 0.8312\n",
      "49/49 [==============================] - 6s 113ms/step - loss: 0.0193 - acc: 1.0000\n",
      "55/55 [==============================] - 6s 113ms/step - loss: 0.6441 - acc: 0.8330\n",
      "link_classification: using 'ip' method to combine node embeddings into edge embeddings\n",
      "49/49 [==============================] - 5s 106ms/step - loss: 0.5797 - acc: 0.7049\n",
      "55/55 [==============================] - 6s 105ms/step - loss: 0.5814 - acc: 0.6993\n",
      "\tloss: 0.5797\n",
      "\tacc: 0.7049\n",
      "\tloss: 0.5814\n",
      "\tacc: 0.6993\n",
      "Epoch 1/20\n",
      "49/49 - 14s - loss: 0.5898 - acc: 0.7029 - val_loss: 0.5800 - val_acc: 0.6541\n",
      "Epoch 2/20\n",
      "49/49 - 14s - loss: 0.4003 - acc: 0.8330 - val_loss: 0.4670 - val_acc: 0.8404\n",
      "Epoch 3/20\n",
      "49/49 - 14s - loss: 0.2806 - acc: 0.9139 - val_loss: 0.4288 - val_acc: 0.7998\n",
      "Epoch 4/20\n",
      "49/49 - 14s - loss: 0.1967 - acc: 0.9406 - val_loss: 0.4594 - val_acc: 0.8395\n",
      "Epoch 5/20\n",
      "49/49 - 14s - loss: 0.1597 - acc: 0.9662 - val_loss: 0.4357 - val_acc: 0.8293\n",
      "Epoch 6/20\n",
      "49/49 - 14s - loss: 0.1483 - acc: 0.9641 - val_loss: 0.4579 - val_acc: 0.8367\n",
      "Epoch 7/20\n",
      "49/49 - 14s - loss: 0.1065 - acc: 0.9785 - val_loss: 0.5773 - val_acc: 0.8349\n",
      "Epoch 8/20\n",
      "49/49 - 14s - loss: 0.0933 - acc: 0.9805 - val_loss: 0.6162 - val_acc: 0.8266\n",
      "Epoch 9/20\n",
      "49/49 - 14s - loss: 0.0746 - acc: 0.9887 - val_loss: 0.5933 - val_acc: 0.8395\n",
      "Epoch 10/20\n",
      "49/49 - 14s - loss: 0.0686 - acc: 0.9908 - val_loss: 0.5363 - val_acc: 0.8201\n",
      "Epoch 11/20\n",
      "49/49 - 14s - loss: 0.0551 - acc: 0.9990 - val_loss: 0.5836 - val_acc: 0.8367\n",
      "Epoch 12/20\n",
      "49/49 - 14s - loss: 0.0480 - acc: 0.9980 - val_loss: 0.6049 - val_acc: 0.8312\n",
      "Epoch 13/20\n",
      "49/49 - 14s - loss: 0.0487 - acc: 0.9959 - val_loss: 0.6449 - val_acc: 0.8349\n",
      "Epoch 14/20\n",
      "49/49 - 14s - loss: 0.0492 - acc: 0.9990 - val_loss: 0.5995 - val_acc: 0.8349\n",
      "Epoch 15/20\n",
      "49/49 - 15s - loss: 0.0402 - acc: 0.9959 - val_loss: 0.5815 - val_acc: 0.8247\n",
      "Epoch 16/20\n",
      "49/49 - 14s - loss: 0.0341 - acc: 0.9990 - val_loss: 0.5131 - val_acc: 0.8321\n",
      "Epoch 17/20\n",
      "49/49 - 14s - loss: 0.0373 - acc: 0.9969 - val_loss: 0.5810 - val_acc: 0.8229\n",
      "Epoch 18/20\n",
      "49/49 - 14s - loss: 0.0318 - acc: 1.0000 - val_loss: 0.5934 - val_acc: 0.8229\n",
      "Epoch 19/20\n",
      "49/49 - 14s - loss: 0.0458 - acc: 0.9969 - val_loss: 0.6030 - val_acc: 0.8137\n",
      "Epoch 20/20\n",
      "49/49 - 14s - loss: 0.0313 - acc: 0.9980 - val_loss: 0.5373 - val_acc: 0.8247\n",
      "49/49 [==============================] - 5s 102ms/step - loss: 0.0202 - acc: 1.0000\n",
      "55/55 [==============================] - 6s 104ms/step - loss: 0.5188 - acc: 0.8312\n"
     ]
    }
   ],
   "source": [
    "five_points = []\n",
    "for node_num in [, 200, 20000, 25000, 40000]:\n",
    "    five_points.append((node_num, GraphSAGE_case_study(node_num)))"
   ]
  },
  {
   "cell_type": "code",
   "execution_count": 34,
   "metadata": {},
   "outputs": [
    {
     "data": {
      "text/plain": [
       "[(20,\n",
       "  ([0.0863826721906662, 0.9928278923034668],\n",
       "   [0.4823666512966156, 0.7988929748535156])),\n",
       " (200,\n",
       "  ([0.028807934373617172, 0.998975396156311],\n",
       "   [0.5472110509872437, 0.8404058814048767])),\n",
       " (20000,\n",
       "  ([0.019121209159493446, 1.0], [0.6804106831550598, 0.821033239364624])),\n",
       " (25000,\n",
       "  ([0.019346771761775017, 1.0], [0.644101619720459, 0.8330258131027222])),\n",
       " (40000,\n",
       "  ([0.02022424340248108, 1.0], [0.5188332796096802, 0.8311808109283447]))]"
      ]
     },
     "execution_count": 34,
     "metadata": {},
     "output_type": "execute_result"
    }
   ],
   "source": [
    "five_points"
   ]
  },
  {
   "cell_type": "code",
   "execution_count": 43,
   "metadata": {},
   "outputs": [
    {
     "data": {
      "image/png": "[encoded data removed]",
      "text/plain": [
       "<Figure size 432x288 with 1 Axes>"
      ]
     },
     "metadata": {
      "needs_background": "light"
     },
     "output_type": "display_data"
    }
   ],
   "source": [
    "plt.plot([20, 200, 20000, 25000, 40000], [1-five_points[i][1][1][1] for i in range(5)], label = 'test')\n",
    "plt.axis()\n",
    "plt.xlabel('Model parameters: nodes in the second layer')\n",
    "plt.ylabel('Zero-one loss (%)')\n",
    "plt.title('GraphSAGE  for Cora')\n",
    "plt.legend();"
   ]
  },
  {
   "cell_type": "code",
   "execution_count": 46,
   "metadata": {},
   "outputs": [
    {
     "data": {
      "image/png": "[encoded data removed]",
      "text/plain": [
       "<Figure size 432x288 with 1 Axes>"
      ]
     },
     "metadata": {
      "needs_background": "light"
     },
     "output_type": "display_data"
    }
   ],
   "source": [
    "plt.plot([20, 200, 20000, 25000, 40000], [five_points[i][1][0][0] for i in range(5)], label = 'train', c='orange')\n",
    "plt.axis()\n",
    "plt.xlabel('Model parameters: nodes in the second layer')\n",
    "plt.ylabel('Zero-one loss (%)')\n",
    "plt.title('GraphSAGE  for Cora')\n",
    "plt.legend();"
   ]
  },
  {
   "cell_type": "code",
   "execution_count": 36,
   "metadata": {
    "scrolled": true
   },
   "outputs": [
    {
     "name": "stdout",
     "output_type": "stream",
     "text": [
      "link_classification: using 'ip' method to combine node embeddings into edge embeddings\n",
      "49/49 [==============================] - 8s 168ms/step - loss: 0.6073 - acc: 0.6803\n",
      "55/55 [==============================] - 9s 162ms/step - loss: 0.5922 - acc: 0.6919\n",
      "\tloss: 0.6073\n",
      "\tacc: 0.6803\n",
      "\tloss: 0.5922\n",
      "\tacc: 0.6919\n",
      "Epoch 1/20\n",
      "49/49 - 33s - loss: 0.6837 - acc: 0.6055 - val_loss: 0.5679 - val_acc: 0.6624\n",
      "Epoch 2/20\n",
      "49/49 - 32s - loss: 0.4516 - acc: 0.8084 - val_loss: 0.4936 - val_acc: 0.7768\n",
      "Epoch 3/20\n",
      "49/49 - 31s - loss: 0.4185 - acc: 0.7982 - val_loss: 0.5034 - val_acc: 0.8303\n",
      "Epoch 4/20\n",
      "49/49 - 31s - loss: 0.3055 - acc: 0.9047 - val_loss: 0.4789 - val_acc: 0.8220\n",
      "Epoch 5/20\n",
      "49/49 - 31s - loss: 0.2271 - acc: 0.9447 - val_loss: 0.4911 - val_acc: 0.8293\n",
      "Epoch 6/20\n",
      "49/49 - 31s - loss: 0.1639 - acc: 0.9662 - val_loss: 0.4831 - val_acc: 0.8349\n",
      "Epoch 7/20\n",
      "49/49 - 32s - loss: 0.1471 - acc: 0.9559 - val_loss: 0.5559 - val_acc: 0.8303\n",
      "Epoch 8/20\n",
      "49/49 - 31s - loss: 0.1312 - acc: 0.9775 - val_loss: 0.5983 - val_acc: 0.8284\n",
      "Epoch 9/20\n",
      "49/49 - 31s - loss: 0.1048 - acc: 0.9805 - val_loss: 0.6152 - val_acc: 0.8201\n",
      "Epoch 10/20\n",
      "49/49 - 35s - loss: 0.0797 - acc: 0.9877 - val_loss: 0.6454 - val_acc: 0.8275\n",
      "Epoch 11/20\n",
      "49/49 - 31s - loss: 0.0682 - acc: 0.9898 - val_loss: 0.6460 - val_acc: 0.8303\n",
      "Epoch 12/20\n",
      "49/49 - 31s - loss: 0.0614 - acc: 0.9949 - val_loss: 0.5780 - val_acc: 0.8266\n",
      "Epoch 13/20\n",
      "49/49 - 31s - loss: 0.0599 - acc: 0.9898 - val_loss: 0.6139 - val_acc: 0.8192\n",
      "Epoch 14/20\n",
      "49/49 - 31s - loss: 0.0521 - acc: 0.9928 - val_loss: 0.6333 - val_acc: 0.8247\n",
      "Epoch 15/20\n",
      "49/49 - 31s - loss: 0.0437 - acc: 0.9939 - val_loss: 0.6718 - val_acc: 0.8173\n",
      "Epoch 16/20\n",
      "49/49 - 31s - loss: 0.0472 - acc: 0.9939 - val_loss: 0.6265 - val_acc: 0.8238\n",
      "Epoch 17/20\n",
      "49/49 - 30s - loss: 0.0428 - acc: 1.0000 - val_loss: 0.6438 - val_acc: 0.8183\n",
      "Epoch 18/20\n",
      "49/49 - 30s - loss: 0.0349 - acc: 0.9980 - val_loss: 0.6710 - val_acc: 0.8164\n",
      "Epoch 19/20\n",
      "49/49 - 30s - loss: 0.0406 - acc: 0.9980 - val_loss: 0.6650 - val_acc: 0.8220\n",
      "Epoch 20/20\n",
      "49/49 - 29s - loss: 0.0360 - acc: 0.9990 - val_loss: 0.6921 - val_acc: 0.8220\n",
      "49/49 [==============================] - 7s 151ms/step - loss: 0.0203 - acc: 1.0000\n",
      "55/55 [==============================] - 8s 149ms/step - loss: 0.6974 - acc: 0.8349\n"
     ]
    },
    {
     "data": {
      "text/plain": [
       "([0.020331911742687225, 1.0], [0.6974055171012878, 0.8348708748817444])"
      ]
     },
     "execution_count": 36,
     "metadata": {},
     "output_type": "execute_result"
    }
   ],
   "source": [
    "GraphSAGE_case_study(578840)"
   ]
  },
  {
   "cell_type": "code",
   "execution_count": 39,
   "metadata": {
    "scrolled": true
   },
   "outputs": [
    {
     "name": "stdout",
     "output_type": "stream",
     "text": [
      "link_classification: using 'ip' method to combine node embeddings into edge embeddings\n",
      "49/49 [==============================] - 8s 165ms/step - loss: 0.6020 - acc: 0.6844\n",
      "55/55 [==============================] - 9s 159ms/step - loss: 0.5681 - acc: 0.7426\n",
      "\tloss: 0.6020\n",
      "\tacc: 0.6844\n",
      "\tloss: 0.5681\n",
      "\tacc: 0.7426\n",
      "Epoch 1/20\n",
      "49/49 - 34s - loss: 0.6586 - acc: 0.6445 - val_loss: 0.5046 - val_acc: 0.7232\n",
      "Epoch 2/20\n",
      "49/49 - 34s - loss: 0.6247 - acc: 0.6885 - val_loss: 1.0416 - val_acc: 0.5009\n",
      "Epoch 3/20\n",
      "49/49 - 34s - loss: 0.6328 - acc: 0.6373 - val_loss: 0.4822 - val_acc: 0.7371\n",
      "Epoch 4/20\n",
      "49/49 - 33s - loss: 0.4159 - acc: 0.8453 - val_loss: 0.4678 - val_acc: 0.7980\n",
      "Epoch 5/20\n",
      "49/49 - 33s - loss: 0.3350 - acc: 0.8689 - val_loss: 0.4687 - val_acc: 0.7851\n",
      "Epoch 6/20\n",
      "49/49 - 33s - loss: 0.2793 - acc: 0.8852 - val_loss: 0.4613 - val_acc: 0.8100\n",
      "Epoch 7/20\n",
      "49/49 - 33s - loss: 0.2296 - acc: 0.9314 - val_loss: 0.4682 - val_acc: 0.8303\n",
      "Epoch 8/20\n",
      "49/49 - 34s - loss: 0.2041 - acc: 0.9395 - val_loss: 0.4788 - val_acc: 0.8330\n",
      "Epoch 9/20\n",
      "49/49 - 34s - loss: 0.1694 - acc: 0.9570 - val_loss: 0.4901 - val_acc: 0.8450\n",
      "Epoch 10/20\n",
      "49/49 - 34s - loss: 0.1543 - acc: 0.9652 - val_loss: 0.5107 - val_acc: 0.8349\n",
      "Epoch 11/20\n",
      "49/49 - 33s - loss: 0.1498 - acc: 0.9754 - val_loss: 0.4889 - val_acc: 0.8376\n",
      "Epoch 12/20\n",
      "49/49 - 33s - loss: 0.1239 - acc: 0.9734 - val_loss: 0.5073 - val_acc: 0.8376\n",
      "Epoch 13/20\n",
      "49/49 - 33s - loss: 0.1140 - acc: 0.9785 - val_loss: 0.5007 - val_acc: 0.8376\n",
      "Epoch 14/20\n",
      "49/49 - 33s - loss: 0.1013 - acc: 0.9836 - val_loss: 0.5234 - val_acc: 0.8275\n",
      "Epoch 15/20\n",
      "49/49 - 33s - loss: 0.0942 - acc: 0.9846 - val_loss: 0.5136 - val_acc: 0.8256\n",
      "Epoch 16/20\n",
      "49/49 - 34s - loss: 0.0778 - acc: 0.9939 - val_loss: 0.5367 - val_acc: 0.8256\n",
      "Epoch 17/20\n",
      "49/49 - 33s - loss: 0.0810 - acc: 0.9908 - val_loss: 0.5557 - val_acc: 0.8266\n",
      "Epoch 18/20\n",
      "49/49 - 34s - loss: 0.0681 - acc: 0.9990 - val_loss: 0.6132 - val_acc: 0.8238\n",
      "Epoch 19/20\n",
      "49/49 - 33s - loss: 0.0657 - acc: 0.9928 - val_loss: 0.5681 - val_acc: 0.8321\n",
      "Epoch 20/20\n",
      "49/49 - 33s - loss: 0.0624 - acc: 0.9949 - val_loss: 0.5746 - val_acc: 0.8284\n",
      "49/49 [==============================] - 8s 162ms/step - loss: 0.0363 - acc: 1.0000\n",
      "55/55 [==============================] - 9s 162ms/step - loss: 0.6069 - acc: 0.8349\n"
     ]
    },
    {
     "data": {
      "text/plain": [
       "([0.036305345594882965, 1.0], [0.6069465279579163, 0.8348708748817444])"
      ]
     },
     "execution_count": 39,
     "metadata": {},
     "output_type": "execute_result"
    }
   ],
   "source": [
    "GraphSAGE_case_study(700000)"
   ]
  },
  {
   "cell_type": "markdown",
   "metadata": {
    "nbsphinx": "hidden",
    "tags": [
     "CloudRunner"
    ]
   },
   "source": [
    "<table><tr><td>Run the latest release of this notebook:</td><td><a href=\"https://mybinder.org/v2/gh/stellargraph/stellargraph/master?urlpath=lab/tree/demos/link-prediction/graphsage-link-prediction.ipynb\" alt=\"Open In Binder\" target=\"_parent\"><img src=\"https://mybinder.org/badge_logo.svg\"/></a></td><td><a href=\"https://colab.research.google.com/github/stellargraph/stellargraph/blob/master/demos/link-prediction/graphsage-link-prediction.ipynb\" alt=\"Open In Colab\" target=\"_parent\"><img src=\"https://colab.research.google.com/assets/colab-badge.svg\"/></a></td></tr></table>"
   ]
  }
 ],
 "metadata": {
  "file_extension": ".py",
  "kernelspec": {
   "display_name": "Python 3",
   "language": "python",
   "name": "python3"
  },
  "language_info": {
   "codemirror_mode": {
    "name": "ipython",
    "version": 3
   },
   "file_extension": ".py",
   "mimetype": "text/x-python",
   "name": "python",
   "nbconvert_exporter": "python",
   "pygments_lexer": "ipython3",
   "version": "3.7.6"
  },
  "mimetype": "text/x-python",
  "name": "python",
  "npconvert_exporter": "python",
  "pygments_lexer": "ipython3",
  "version": 3
 },
 "nbformat": 4,
 "nbformat_minor": 4
}
